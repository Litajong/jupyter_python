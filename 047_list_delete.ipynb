{
  "cells": [
    {
      "metadata": {
        "trusted": true
      },
      "cell_type": "code",
      "source": "# the list before delete\nsample_list = [11, 21, 13, 14, 51, 161, 117, 181]\nprint(\"sample_list before: \", sample_list)\n\ndel sample_list[1]\n\n# the list after delete\nprint(\"sample_list after:      \", sample_list)",
      "execution_count": 13,
      "outputs": [
        {
          "output_type": "stream",
          "text": "sample_list before:  [11, 21, 13, 14, 51, 161, 117, 181]\nsample_list after:       [11, 13, 14, 51, 161, 117, 181]\n",
          "name": "stdout"
        }
      ]
    },
    {
      "metadata": {
        "trusted": true
      },
      "cell_type": "code",
      "source": "# review and run example Multiple Times\n# consider how to reset the list values?\nprint(\"sample_list before:\", sample_list)\n\ndel sample_list[0]\n\nprint(\"sample_list after:\", sample_list)",
      "execution_count": 21,
      "outputs": [
        {
          "output_type": "stream",
          "text": "sample_list before: []\n",
          "name": "stdout"
        },
        {
          "output_type": "error",
          "ename": "IndexError",
          "evalue": "list assignment index out of range",
          "traceback": [
            "\u001b[0;31m---------------------------------------------------------------------------\u001b[0m",
            "\u001b[0;31mIndexError\u001b[0m                                Traceback (most recent call last)",
            "\u001b[0;32m<ipython-input-21-220d732e89a0>\u001b[0m in \u001b[0;36m<module>\u001b[0;34m()\u001b[0m\n\u001b[1;32m      3\u001b[0m \u001b[0mprint\u001b[0m\u001b[0;34m(\u001b[0m\u001b[0;34m\"sample_list before:\"\u001b[0m\u001b[0;34m,\u001b[0m \u001b[0msample_list\u001b[0m\u001b[0;34m)\u001b[0m\u001b[0;34m\u001b[0m\u001b[0m\n\u001b[1;32m      4\u001b[0m \u001b[0;34m\u001b[0m\u001b[0m\n\u001b[0;32m----> 5\u001b[0;31m \u001b[0;32mdel\u001b[0m \u001b[0msample_list\u001b[0m\u001b[0;34m[\u001b[0m\u001b[0;36m0\u001b[0m\u001b[0;34m]\u001b[0m\u001b[0;34m\u001b[0m\u001b[0m\n\u001b[0m\u001b[1;32m      6\u001b[0m \u001b[0;34m\u001b[0m\u001b[0m\n\u001b[1;32m      7\u001b[0m \u001b[0mprint\u001b[0m\u001b[0;34m(\u001b[0m\u001b[0;34m\"sample_list after:\"\u001b[0m\u001b[0;34m,\u001b[0m \u001b[0msample_list\u001b[0m\u001b[0;34m)\u001b[0m\u001b[0;34m\u001b[0m\u001b[0m\n",
            "\u001b[0;31mIndexError\u001b[0m: list assignment index out of range"
          ]
        }
      ]
    },
    {
      "metadata": {
        "trusted": true
      },
      "cell_type": "code",
      "source": "mixed_types = [1, \"cat\"]\n\n# append number\nmixed_types.append(3)\n\nprint(\"mixed_types list: \", mixed_types)",
      "execution_count": 23,
      "outputs": [
        {
          "output_type": "stream",
          "text": "mixed_types list:  [1, 'cat', 3]\n",
          "name": "stdout"
        }
      ]
    },
    {
      "metadata": {
        "trusted": true
      },
      "cell_type": "code",
      "source": "# append string\nmixed_types.append(\"turtle\")\n\nprint(\"mixed_types list:\", mixed_types)",
      "execution_count": 25,
      "outputs": [
        {
          "output_type": "stream",
          "text": "mixed_types list: [1, 'cat', 3, 'turtle', 'turtle']\n",
          "name": "stdout"
        }
      ]
    },
    {
      "metadata": {
        "trusted": true
      },
      "cell_type": "code",
      "source": "# Task: del statement\n# print ft_bones list\n# delete \"cuboid\" from ft_bones\n# reprint list\n\nft_bones = [\"calcaneus\", \"talus\", \"cuboid\", \"navicular\", \"lateral cuneiform\", \"intermediate cuneiform\", \"medial cuneiform\"]\nprint(\"ft_bones before: \", ft_bones, \"\\n\")\n\ndel ft_bones[2]\n\nprint(\"ft_bones after: \", ft_bones)",
      "execution_count": 27,
      "outputs": [
        {
          "output_type": "stream",
          "text": "ft_bones before:  ['calcaneus', 'talus', 'cuboid', 'navicular', 'lateral cuneiform', 'intermediate cuneiform', 'medial cuneiform'] \n\nft_bones after:  ['calcaneus', 'talus', 'navicular', 'lateral cuneiform', 'intermediate cuneiform', 'medial cuneiform']\n",
          "name": "stdout"
        }
      ]
    },
    {
      "metadata": {
        "trusted": true
      },
      "cell_type": "code",
      "source": "#Task: Multiple del statements\n\n# print ft_bones list\n# delete \"cuboid\" from ft_bones\n# delete \"navicular\" from list\n# reprint list\n# check for deletion of \"cuboid\" and \"navicular\"\n\nft_bones = [\"calcaneus\", \"talus\", \"cuboid\", \"navicular\", \"lateral cuneiform\", \"intermediate cuneiform\", \"medial cuneiform\"]\n\ndel ft_bones[2]\ndel ft_bones[2]\n\nprint(\"ft_bones after delete:\", ft_bones)",
      "execution_count": 33,
      "outputs": [
        {
          "output_type": "stream",
          "text": "ft_bones after delete: ['calcaneus', 'talus', 'lateral cuneiform', 'intermediate cuneiform', 'medial cuneiform']\n",
          "name": "stdout"
        }
      ]
    }
  ],
  "metadata": {
    "kernelspec": {
      "name": "python3",
      "display_name": "Python 3",
      "language": "python"
    },
    "language_info": {
      "mimetype": "text/x-python",
      "nbconvert_exporter": "python",
      "name": "python",
      "file_extension": ".py",
      "version": "3.5.4",
      "pygments_lexer": "ipython3",
      "codemirror_mode": {
        "version": 3,
        "name": "ipython"
      }
    }
  },
  "nbformat": 4,
  "nbformat_minor": 1
}