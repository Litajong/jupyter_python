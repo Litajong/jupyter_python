{
  "cells": [
    {
      "metadata": {
        "trusted": true
      },
      "cell_type": "code",
      "source": "# print long_word from the location of the first and second \"t\"\nlong_word = \"juxtaposition\"\n\nprint(\"long_word is\" ,\"\\\"\" + long_word + \"\\\"\")\n\nlocation = long_word.find(\"t\")\nprint('First location of \"t\" is' , location)\nprint('Second location of \"t\" is' , long_word . find(\"t\" , location + 1))\n\nprint('long_word from  the location of the first and second \"t\" is' , long_word[location:int(long_word . find(\"t\" , location + 1))+1])\n",
      "execution_count": 17,
      "outputs": [
        {
          "output_type": "stream",
          "text": "long_word is \"juxtaposition\"\nFirst location of \"t\" is 3\nSecond location of \"t\" is 9\nlong_word from  the location of the first and second \"t\" is taposit\n",
          "name": "stdout"
        }
      ]
    },
    {
      "metadata": {
        "trusted": true
      },
      "cell_type": "code",
      "source": "# Print each word in the quote on a new line\n\nquote = \"they stumble who run fast\"\n\nstart = 0\nindex = quote . find(\" \")\n\nwhile index != -1:\n    print(quote[start:index])\n    start = index + 1\n    index = quote . find(\" \" , index + 1)\n    \nprint(quote[start:] )\n",
      "execution_count": 23,
      "outputs": [
        {
          "output_type": "stream",
          "text": "they\nstumble\nwho\nrun\nfast\n",
          "name": "stdout"
        }
      ]
    }
  ],
  "metadata": {
    "kernelspec": {
      "name": "python3",
      "display_name": "Python 3",
      "language": "python"
    },
    "language_info": {
      "mimetype": "text/x-python",
      "nbconvert_exporter": "python",
      "name": "python",
      "pygments_lexer": "ipython3",
      "version": "3.5.4",
      "file_extension": ".py",
      "codemirror_mode": {
        "version": 3,
        "name": "ipython"
      }
    }
  },
  "nbformat": 4,
  "nbformat_minor": 1
}