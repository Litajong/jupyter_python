{
  "cells": [
    {
      "metadata": {
        "trusted": true
      },
      "cell_type": "code",
      "source": "# task: import and open a local file in read mode\n# Import a list of cities using curl\n# git the list from https://raw.githubusercontent.com/MicrosoftLearning/intropython/master/cities\n\n!curl https://raw.githubusercontent.com/MicrosoftLearning/intropython/master/cities -o cities.txt\n\n# name the list cities.txt\ncities_file = open('cities.txt','r')\n\n# open cities.txt in read mode using a variable = cities_file\ncities = cities_file.readlines()\nprint(cities)\n# test that cities_file opened cities.txt with a print statement\nfor line in cities:\n    print(line)",
      "execution_count": 6,
      "outputs": [
        {
          "output_type": "stream",
          "text": "  % Total    % Received % Xferd  Average Speed   Time    Time     Time  Current\n                                 Dload  Upload   Total   Spent    Left  Speed\n100    56  100    56    0     0    183      0 --:--:-- --:--:-- --:--:--   184\n['Beijing\\n', 'Cairo\\n', 'London\\n', 'Nairobi\\n', 'New York City\\n', 'Sydney\\n', 'Tokyo\\n']\nBeijing\n\nCairo\n\nLondon\n\nNairobi\n\nNew York City\n\nSydney\n\nTokyo\n\n",
          "name": "stdout"
        }
      ]
    },
    {
      "metadata": {
        "trusted": true
      },
      "cell_type": "code",
      "source": "",
      "execution_count": null,
      "outputs": []
    }
  ],
  "metadata": {
    "kernelspec": {
      "name": "python3",
      "display_name": "Python 3",
      "language": "python"
    },
    "language_info": {
      "mimetype": "text/x-python",
      "nbconvert_exporter": "python",
      "name": "python",
      "file_extension": ".py",
      "version": "3.5.4",
      "pygments_lexer": "ipython3",
      "codemirror_mode": {
        "version": 3,
        "name": "ipython"
      }
    }
  },
  "nbformat": 4,
  "nbformat_minor": 1
}