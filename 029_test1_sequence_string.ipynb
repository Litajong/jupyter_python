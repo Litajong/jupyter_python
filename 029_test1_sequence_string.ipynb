{
  "cells": [
    {
      "metadata": {
        "trusted": true
      },
      "cell_type": "code",
      "source": "# Task 1 #\n# Access String Characters\n# working_string[index]\n\n# access and print the second character from planet_name: \"u\"\n\nplanet_name = \"Jupiter\"\n\nprint(planet_name[1])",
      "execution_count": 2,
      "outputs": [
        {
          "output_type": "stream",
          "text": "u\n",
          "name": "stdout"
        }
      ]
    },
    {
      "metadata": {
        "trusted": true
      },
      "cell_type": "code",
      "source": "# access and print the first character from planet_name: \"J\"\n\nprint(planet_name[0])",
      "execution_count": 3,
      "outputs": [
        {
          "output_type": "stream",
          "text": "J\n",
          "name": "stdout"
        }
      ]
    },
    {
      "metadata": {
        "trusted": true
      },
      "cell_type": "code",
      "source": "# access and print the first and last characters from planet_name\n\nprint(planet_name[0] , planet_name[-1])",
      "execution_count": 5,
      "outputs": [
        {
          "output_type": "stream",
          "text": "J r\n",
          "name": "stdout"
        }
      ]
    },
    {
      "metadata": {
        "trusted": true
      },
      "cell_type": "code",
      "source": "# using a negative index access and print the first character from planet_name: \"J\"\n\nprint(planet_name[-7])",
      "execution_count": 6,
      "outputs": [
        {
          "output_type": "stream",
          "text": "J\n",
          "name": "stdout"
        }
      ]
    },
    {
      "metadata": {
        "trusted": true
      },
      "cell_type": "code",
      "source": "# Task 2 #\n# working_string[start:stop]\n# working_string[start:stop:step]\n\n# print planet_name sliced into the first 3 characters and remaining characters\nplanet_name = \"Neptune\"\n\nprint(planet_name[:3])\nprint(planet_name[3:])",
      "execution_count": 8,
      "outputs": [
        {
          "output_type": "stream",
          "text": "Nep\ntune\n",
          "name": "stdout"
        }
      ]
    },
    {
      "metadata": {
        "trusted": true
      },
      "cell_type": "code",
      "source": "# print 1st char and then every 3rd char of wise_words\n# use string slice with a step\nwise_words = 'Play it who opens'\n\nprint(wise_words[0::2])",
      "execution_count": 9,
      "outputs": [
        {
          "output_type": "stream",
          "text": "Pa twooes\n",
          "name": "stdout"
        }
      ]
    },
    {
      "metadata": {
        "trusted": true
      },
      "cell_type": "code",
      "source": "# print planet_name in reverse\n\nprint(planet_name[::-1])",
      "execution_count": 10,
      "outputs": [
        {
          "output_type": "stream",
          "text": "enutpeN\n",
          "name": "stdout"
        }
      ]
    },
    {
      "metadata": {
        "trusted": true
      },
      "cell_type": "code",
      "source": "# Task 3 #\n# iterate a String\n# for letter in sentence\n\n# Get user input for 1 fav_food\n# iterate through letters in fav_food \n#    - print each letter on a new line\n\nfav_food = input()\nfor letter in fav_food :\n    print(letter)",
      "execution_count": null,
      "outputs": []
    },
    {
      "metadata": {
        "trusted": true
      },
      "cell_type": "code",
      "source": "",
      "execution_count": null,
      "outputs": []
    }
  ],
  "metadata": {
    "kernelspec": {
      "name": "python3",
      "display_name": "Python 3",
      "language": "python"
    },
    "language_info": {
      "mimetype": "text/x-python",
      "nbconvert_exporter": "python",
      "name": "python",
      "pygments_lexer": "ipython3",
      "version": "3.5.4",
      "file_extension": ".py",
      "codemirror_mode": {
        "version": 3,
        "name": "ipython"
      }
    }
  },
  "nbformat": 4,
  "nbformat_minor": 1
}