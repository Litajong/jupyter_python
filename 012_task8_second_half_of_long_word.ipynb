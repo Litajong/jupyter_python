{
  "cells": [
    {
      "metadata": {
        "trusted": true
      },
      "cell_type": "code",
      "source": "#print the second half of the long_word#\nlong_word = \"Consequences\"\n\nlong_word[7:]",
      "execution_count": 2,
      "outputs": [
        {
          "output_type": "execute_result",
          "execution_count": 2,
          "data": {
            "text/plain": "'ences'"
          },
          "metadata": {}
        }
      ]
    },
    {
      "metadata": {
        "trusted": true
      },
      "cell_type": "code",
      "source": "#print a message that there is \"No Parking\" on index 0 or index 4 streets#\nstreet_name = \"Braddock\"\n\nprint('There is \"No Parking\" on' , street_name[0:] , \"streets\")",
      "execution_count": 7,
      "outputs": [
        {
          "output_type": "stream",
          "text": "There is \"No Parking\" on Braddock streets\n",
          "name": "stdout"
        }
      ]
    },
    {
      "metadata": {
        "trusted": true
      },
      "cell_type": "code",
      "source": "print('There is \"No Parking\" on' , street_name[4:] , \"streets\")",
      "execution_count": 8,
      "outputs": [
        {
          "output_type": "stream",
          "text": "There is \"No Parking\" on dock streets\n",
          "name": "stdout"
        }
      ]
    }
  ],
  "metadata": {
    "kernelspec": {
      "name": "python3",
      "display_name": "Python 3",
      "language": "python"
    },
    "language_info": {
      "mimetype": "text/x-python",
      "nbconvert_exporter": "python",
      "name": "python",
      "file_extension": ".py",
      "version": "3.5.4",
      "pygments_lexer": "ipython3",
      "codemirror_mode": {
        "version": 3,
        "name": "ipython"
      }
    }
  },
  "nbformat": 4,
  "nbformat_minor": 1
}