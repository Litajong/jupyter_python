{
 "cells": [
  {
   "cell_type": "code",
   "execution_count": 5,
   "metadata": {},
   "outputs": [
    {
     "name": "stdout",
     "output_type": "stream",
     "text": [
      "or BRUSHED thy not SUMMER’S thou me? THOUGHTLESS thee? little a play like a not has am my fly, art man\n"
     ]
    }
   ],
   "source": [
    "def word_mixer(words_list):\n",
    "    words_list.sort()\n",
    "    new_words = []\n",
    "    while len(words_list) > 5:\n",
    "        new_words.append(words_list.pop(-5))\n",
    "        new_words.append(words_list.pop(0))\n",
    "        new_words.append(words_list.pop(-1))\n",
    "    return \" \".join(new_words)\n",
    "\n",
    "# str_input = input()\n",
    "str_input = \"Little fly, Thy summer’s play My thoughtless hand Has brushed away. Am not I A fly like thee? Or art not thou A man like me?\"\n",
    "words_list = str_input.split()\n",
    "\n",
    "for i in range(0,len(words_list)):\n",
    "    if len(words_list[i]) < 7:\n",
    "        words_list[i] = words_list[i].lower()\n",
    "    else:\n",
    "        words_list[i] = words_list[i].upper()\n",
    "\n",
    "print(word_mixer(words_list))"
   ]
  }
 ],
 "metadata": {
  "kernelspec": {
   "display_name": "Python 3",
   "language": "python",
   "name": "python3"
  },
  "language_info": {
   "codemirror_mode": {
    "name": "ipython",
    "version": 3
   },
   "file_extension": ".py",
   "mimetype": "text/x-python",
   "name": "python",
   "nbconvert_exporter": "python",
   "pygments_lexer": "ipython3",
   "version": "3.5.4"
  }
 },
 "nbformat": 4,
 "nbformat_minor": 1
}
