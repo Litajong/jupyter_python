{
  "cells": [
    {
      "metadata": {
        "trusted": true
      },
      "cell_type": "code",
      "source": "# return the length of a string included space #\n\nwork_tip = \"save your code\"\nprint(\"number of characters in string\")\nlen(work_tip)",
      "execution_count": 2,
      "outputs": [
        {
          "output_type": "stream",
          "text": "number of characters in string\n",
          "name": "stdout"
        },
        {
          "output_type": "execute_result",
          "execution_count": 2,
          "data": {
            "text/plain": "14"
          },
          "metadata": {}
        }
      ]
    },
    {
      "metadata": {
        "trusted": true
      },
      "cell_type": "code",
      "source": "work_tip = \"good code is commented code\"\nprint(\"The sentence: \\\"\" + work_tip + \" has character length =\" , len(work_tip))",
      "execution_count": 11,
      "outputs": [
        {
          "output_type": "stream",
          "text": "The sentence: \"good code is commented code has character length = 27\n",
          "name": "stdout"
        }
      ]
    },
    {
      "metadata": {
        "trusted": true
      },
      "cell_type": "code",
      "source": "",
      "execution_count": null,
      "outputs": []
    }
  ],
  "metadata": {
    "kernelspec": {
      "name": "python3",
      "display_name": "Python 3",
      "language": "python"
    },
    "language_info": {
      "mimetype": "text/x-python",
      "nbconvert_exporter": "python",
      "name": "python",
      "pygments_lexer": "ipython3",
      "version": "3.5.4",
      "file_extension": ".py",
      "codemirror_mode": {
        "version": 3,
        "name": "ipython"
      }
    }
  },
  "nbformat": 4,
  "nbformat_minor": 1
}