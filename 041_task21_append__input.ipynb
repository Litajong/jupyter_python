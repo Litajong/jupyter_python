{
 "cells": [
  {
   "cell_type": "code",
   "execution_count": 1,
   "metadata": {},
   "outputs": [
    {
     "name": "stdout",
     "output_type": "stream",
     "text": [
      "['Dollar', 'Baht', 'Euro']\n",
      "Put currency name:France\n",
      "['Dollar', 'Baht', 'Euro', 'France']\n"
     ]
    }
   ],
   "source": [
    "#Append items to a list with input()\n",
    "#append additional values to the Currency Names list using input()\n",
    "\n",
    "cur_names = [\"Dollar\", \"Baht\", \"Euro\"]\n",
    "print(cur_names)\n",
    "\n",
    "new_currency = input(\"Put currency name:\")\n",
    "cur_names.append(new_currency)\n",
    "\n",
    "print(cur_names)"
   ]
  }
 ],
 "metadata": {
  "kernelspec": {
   "display_name": "Python 3",
   "language": "python",
   "name": "python3"
  },
  "language_info": {
   "codemirror_mode": {
    "name": "ipython",
    "version": 3
   },
   "file_extension": ".py",
   "mimetype": "text/x-python",
   "name": "python",
   "nbconvert_exporter": "python",
   "pygments_lexer": "ipython3",
   "version": "3.5.4"
  }
 },
 "nbformat": 4,
 "nbformat_minor": 1
}
