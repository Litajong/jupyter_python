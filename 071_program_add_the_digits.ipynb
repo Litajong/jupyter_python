{
  "cells": [
    {
      "metadata": {
        "trusted": true
      },
      "cell_type": "code",
      "source": "# Program: add the digits\n# Hint: use cast to sum the digits, and .join() to create the equation (1+2+3+...)\n\n# create add the digits\n# create a 20 digit string, and cast to a list\ndigit_str = \"1 2 3 4 5 6 7 8 9 10 11 12 13 14 15 16 17 18 19 20\"\ndigit_list = digit_str.split(\" \")\nprint(digit_list)\n\n# then add all the digits as integers\ntemp = 0\n\nfor number in digit_list:\n    temp = temp + int(number)\n\n # print the equation and answer   \n\njoin_digit = \"+\".join(digit_list)\nprint(join_digit,\"=\", temp)",
      "execution_count": 5,
      "outputs": [
        {
          "output_type": "stream",
          "text": "['1', '2', '3', '4', '5', '6', '7', '8', '9', '10', '11', '12', '13', '14', '15', '16', '17', '18', '19', '20']\n1+2+3+4+5+6+7+8+9+10+11+12+13+14+15+16+17+18+19+20 = 210\n",
          "name": "stdout"
        }
      ]
    },
    {
      "metadata": {
        "trusted": true
      },
      "cell_type": "code",
      "source": "",
      "execution_count": null,
      "outputs": []
    }
  ],
  "metadata": {
    "kernelspec": {
      "name": "python3",
      "display_name": "Python 3",
      "language": "python"
    },
    "language_info": {
      "mimetype": "text/x-python",
      "nbconvert_exporter": "python",
      "name": "python",
      "file_extension": ".py",
      "version": "3.5.4",
      "pygments_lexer": "ipython3",
      "codemirror_mode": {
        "version": 3,
        "name": "ipython"
      }
    }
  },
  "nbformat": 4,
  "nbformat_minor": 1
}