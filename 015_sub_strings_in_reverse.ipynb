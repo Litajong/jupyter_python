{
  "cells": [
    {
      "metadata": {
        "trusted": true
      },
      "cell_type": "code",
      "source": "# Sub-strings in reverse #\n# make the stepincrment -1 to step backwards #\n\nlong_word = \"Characteristics\"\nprint(long_word[::-1])",
      "execution_count": 2,
      "outputs": [
        {
          "output_type": "stream",
          "text": "scitsiretcarahC\n",
          "name": "stdout"
        }
      ]
    },
    {
      "metadata": {
        "trusted": true
      },
      "cell_type": "code",
      "source": "# start at the 7th letter backwards start #\n\nprint(long_word[6::-1])",
      "execution_count": 4,
      "outputs": [
        {
          "output_type": "stream",
          "text": "tcarahC\n",
          "name": "stdout"
        }
      ]
    },
    {
      "metadata": {
        "trusted": true
      },
      "cell_type": "code",
      "source": "# reverse \"stressed\" #\n\nlong_word = \"stressed\"\nprint(long_word[::-1])",
      "execution_count": 11,
      "outputs": [
        {
          "output_type": "stream",
          "text": "desserts\n",
          "name": "stdout"
        }
      ]
    },
    {
      "metadata": {
        "trusted": true
      },
      "cell_type": "code",
      "source": "# print the first 5 letters of long_word in reverse #\n\nlong_word = \"Characteristics\"\nprint(long_word[4::-1])",
      "execution_count": 12,
      "outputs": [
        {
          "output_type": "stream",
          "text": "arahC\n",
          "name": "stdout"
        }
      ]
    }
  ],
  "metadata": {
    "kernelspec": {
      "name": "python3",
      "display_name": "Python 3",
      "language": "python"
    },
    "language_info": {
      "mimetype": "text/x-python",
      "nbconvert_exporter": "python",
      "name": "python",
      "pygments_lexer": "ipython3",
      "version": "3.5.4",
      "file_extension": ".py",
      "codemirror_mode": {
        "version": 3,
        "name": "ipython"
      }
    }
  },
  "nbformat": 4,
  "nbformat_minor": 1
}