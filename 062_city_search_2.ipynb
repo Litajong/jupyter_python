{
  "cells": [
    {
      "metadata": {
        "trusted": true
      },
      "cell_type": "code",
      "source": "def city_search(search_item, cities_list):\n    check = \"\"\n    for city in cities_list:\n        if city.lower() == search_item.lower():\n            print(search_item, \"in default cities is True\")\n            check = \"yes\"\n    if check == \"\":\n        print(search_item, \"in default cities is False\")\n\n    \ncities = [\"New York\", \"Shanghai\", \"Munich\", \"Tokyo\"]\nvisited_cities = [\"New York\", \"Shanghai\", \"Munich\", \"Tokyo\", \"Dubai\", \"Mexico City\", \"São Paulo\", \"Hyderabad\"]\n\nsearch = input(\"enter a city visited: \")\n\ncity_search(search, cities)\ncity_search(search, visited_cities)",
      "execution_count": 2,
      "outputs": [
        {
          "output_type": "stream",
          "name": "stdout",
          "text": "enter a city visited: Hyderabad\nHyderabad in default cities is False\nHyderabad in default cities is True\n"
        }
      ]
    }
  ],
  "metadata": {
    "kernelspec": {
      "name": "python3",
      "display_name": "Python 3",
      "language": "python"
    },
    "language_info": {
      "mimetype": "text/x-python",
      "nbconvert_exporter": "python",
      "name": "python",
      "file_extension": ".py",
      "version": "3.5.4",
      "pygments_lexer": "ipython3",
      "codemirror_mode": {
        "version": 3,
        "name": "ipython"
      }
    }
  },
  "nbformat": 4,
  "nbformat_minor": 1
}