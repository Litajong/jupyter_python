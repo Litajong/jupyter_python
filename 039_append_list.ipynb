{
  "cells": [
    {
      "metadata": {
        "trusted": true
      },
      "cell_type": "code",
      "source": "# the list before append\nsample_list = [1, 1, 2]\n\nprint(\"sample_list before: \", sample_list)\n\nsample_list.append(3)\n\n# the list after append\nprint(\"sample_list after:  \", sample_list)",
      "execution_count": 12,
      "outputs": [
        {
          "output_type": "stream",
          "text": "sample_list before:  [1, 1, 2]\nsample_list after:   [1, 1, 2, 3]\n",
          "name": "stdout"
        }
      ]
    },
    {
      "metadata": {
        "trusted": true
      },
      "cell_type": "code",
      "source": "# append number to sample_list\nprint(\"sample_list start:  \", sample_list)\n\nsample_list.append(3)\nprint(\"sample_list added:  \", sample_list)\n",
      "execution_count": 14,
      "outputs": [
        {
          "output_type": "stream",
          "text": "sample_list start:   [1, 1, 2, 3, 3]\nsample_list added:   [1, 1, 2, 3, 3, 3]\n",
          "name": "stdout"
        }
      ]
    },
    {
      "metadata": {
        "trusted": true
      },
      "cell_type": "code",
      "source": "# append number to sample_list\nprint(\"sample_list start:  \", sample_list)\n\nsample_list.append(3)\nprint(\"sample_list added:  \", sample_list)",
      "execution_count": 21,
      "outputs": [
        {
          "output_type": "stream",
          "text": "sample_list start:   [1, 1, 2, 3, 3, 3, 3, 3, 3, 3, 3, 3]\nsample_list added:   [1, 1, 2, 3, 3, 3, 3, 3, 3, 3, 3, 3, 3]\n",
          "name": "stdout"
        }
      ]
    },
    {
      "metadata": {
        "trusted": true
      },
      "cell_type": "code",
      "source": "# append again\nsample_list.append(8)\nprint(\"sample_list added:  \", sample_list)",
      "execution_count": 23,
      "outputs": [
        {
          "output_type": "stream",
          "text": "sample_list added:   [1, 1, 2, 3, 3, 3, 3, 3, 3, 3, 3, 3, 3, 8, 8]\n",
          "name": "stdout"
        }
      ]
    },
    {
      "metadata": {
        "trusted": true
      },
      "cell_type": "code",
      "source": "# append again\nsample_list.append(5)\nprint(\"sample_list added:  \", sample_list)\n\n# [ ] run this cell several times in a row \n# [ ] run cell above, then run this cell again",
      "execution_count": 30,
      "outputs": [
        {
          "output_type": "stream",
          "text": "sample_list added:   [1, 1, 2, 3, 3, 3, 3, 3, 3, 3, 3, 3, 3, 8, 8, 5, 5, 5, 5, 5, 5, 5]\n",
          "name": "stdout"
        }
      ]
    },
    {
      "metadata": {
        "trusted": true
      },
      "cell_type": "code",
      "source": "mixed_types = [1, \"cat\"]\n\n# append number\nmixed_types.append(3)\n\nprint(\"mixed_types list: \", mixed_types)",
      "execution_count": 36,
      "outputs": [
        {
          "output_type": "stream",
          "text": "mixed_types list:  [1, 'cat', 3]\n",
          "name": "stdout"
        }
      ]
    },
    {
      "metadata": {
        "trusted": true
      },
      "cell_type": "code",
      "source": "# append string\nmixed_types.append(\"turtle\")\n\nprint(\"mixed_types list: \", mixed_types)",
      "execution_count": 38,
      "outputs": [
        {
          "output_type": "stream",
          "text": "mixed_types list:  [1, 'cat', 3, 'turtle', 'turtle']\n",
          "name": "stdout"
        }
      ]
    }
  ],
  "metadata": {
    "kernelspec": {
      "name": "python3",
      "display_name": "Python 3",
      "language": "python"
    },
    "language_info": {
      "mimetype": "text/x-python",
      "nbconvert_exporter": "python",
      "name": "python",
      "file_extension": ".py",
      "version": "3.5.4",
      "pygments_lexer": "ipython3",
      "codemirror_mode": {
        "version": 3,
        "name": "ipython"
      }
    }
  },
  "nbformat": 4,
  "nbformat_minor": 1
}