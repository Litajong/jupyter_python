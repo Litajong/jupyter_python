{
  "cells": [
    {
      "metadata": {
        "trusted": true
      },
      "cell_type": "code",
      "source": "student_name = \"Colette\"\n\n# return all #\nprint(student_name[:])",
      "execution_count": 2,
      "outputs": [
        {
          "output_type": "stream",
          "text": "Colette\n",
          "name": "stdout"
        }
      ]
    },
    {
      "metadata": {
        "trusted": true
      },
      "cell_type": "code",
      "source": "# return every other #\nprint(student_name[::2])",
      "execution_count": 3,
      "outputs": [
        {
          "output_type": "stream",
          "text": "Clte\n",
          "name": "stdout"
        }
      ]
    },
    {
      "metadata": {
        "trusted": true
      },
      "cell_type": "code",
      "source": "print(student_name[::3])",
      "execution_count": 5,
      "outputs": [
        {
          "output_type": "stream",
          "text": "Cee\n",
          "name": "stdout"
        }
      ]
    },
    {
      "metadata": {
        "trusted": true
      },
      "cell_type": "code",
      "source": "print(student_name[::4])",
      "execution_count": 6,
      "outputs": [
        {
          "output_type": "stream",
          "text": "Ct\n",
          "name": "stdout"
        }
      ]
    },
    {
      "metadata": {
        "trusted": true
      },
      "cell_type": "code",
      "source": "#return every third, starting at 2nd character#\nprint(student_name[1::2])",
      "execution_count": 7,
      "outputs": [
        {
          "output_type": "stream",
          "text": "oet\n",
          "name": "stdout"
        }
      ]
    },
    {
      "metadata": {
        "trusted": true
      },
      "cell_type": "code",
      "source": "long_word = \"Consequences\"\n\n#starting at 2nd char (index 1) to 9th character, return every other character#\nprint(long_word,\"\\n\")\nprint(long_word[1:9:2])",
      "execution_count": 9,
      "outputs": [
        {
          "output_type": "stream",
          "text": "Consequences \n\nosqe\n",
          "name": "stdout"
        }
      ]
    },
    {
      "metadata": {
        "trusted": true
      },
      "cell_type": "code",
      "source": "",
      "execution_count": null,
      "outputs": []
    }
  ],
  "metadata": {
    "kernelspec": {
      "name": "python3",
      "display_name": "Python 3",
      "language": "python"
    },
    "language_info": {
      "mimetype": "text/x-python",
      "nbconvert_exporter": "python",
      "name": "python",
      "file_extension": ".py",
      "version": "3.5.4",
      "pygments_lexer": "ipython3",
      "codemirror_mode": {
        "version": 3,
        "name": "ipython"
      }
    }
  },
  "nbformat": 4,
  "nbformat_minor": 1
}