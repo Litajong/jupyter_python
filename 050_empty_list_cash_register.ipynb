{
  "cells": [
    {
      "metadata": {
        "trusted": true
      },
      "cell_type": "code",
      "source": "#Cash Register Input\n#create a empty list purchase_amounts\n#populate the list with user input for the price of items\n#continue adding to list with while until \"done\" is entered\n#can use while True: with break\n#print purchase_amounts\n#continue to pt 2\n#complete the Register Input task above\n\npurchase_amounts = [] \n\nwhile True: \n    item_price = input('enter price of items or \"done\":')  \n    \n    if item_price.isdigit(): \n        purchase_amounts.append(item_price) \n    \n    elif item_price.startswith(\"done\"): break\n\nprint(purchase_amounts)",
      "execution_count": 7,
      "outputs": [
        {
          "output_type": "stream",
          "name": "stdout",
          "text": "enter price of items or \"done\":23\nenter price of items or \"done\":25\nenter price of items or \"done\":26\nenter price of items or \"done\":45\nenter price of items or \"done\":56\nenter price of items or \"done\":67\nenter price of items or \"done\":43\nenter price of items or \"done\":done\n['23', '25', '26', '45', '56', '67', '43']\n"
        }
      ]
    },
    {
      "metadata": {
        "trusted": true
      },
      "cell_type": "code",
      "source": "#Cash Register Total\n#create a subtotal variable = 0\n#create a while loop that runs while purchase_amount (is not empty)\n#inside the loop\n#pop() the last list value cast as a float type\n#add the float value to a subtotal variable\n#after exiting the loop print subtotal\n#be sure to populate purchase_amounts by running pt 1 above\n#complete the Register Total task above\n\nprint(purchase_amounts)\nsubtotal = 0\n\nwhile purchase_amounts:\n    subtotal += float(purchase_amounts.pop())\n\nprint(\"subtotal of purchase_amount is : \", subtotal)",
      "execution_count": 8,
      "outputs": [
        {
          "output_type": "stream",
          "text": "['23', '25', '26', '45', '56', '67', '43']\nsubtotal of purchase_amount is :  285.0\n",
          "name": "stdout"
        }
      ]
    }
  ],
  "metadata": {
    "kernelspec": {
      "name": "python3",
      "display_name": "Python 3",
      "language": "python"
    },
    "language_info": {
      "mimetype": "text/x-python",
      "nbconvert_exporter": "python",
      "name": "python",
      "file_extension": ".py",
      "version": "3.5.4",
      "pygments_lexer": "ipython3",
      "codemirror_mode": {
        "version": 3,
        "name": "ipython"
      }
    }
  },
  "nbformat": 4,
  "nbformat_minor": 1
}