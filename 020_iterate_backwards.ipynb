{
  "cells": [
    {
      "metadata": {
        "trusted": true
      },
      "cell_type": "code",
      "source": "# combine string slicing and iteration #\nstudent_name = \"Skye\"\nfor letter in student_name[:3]:\n    print(letter)\n    ",
      "execution_count": 2,
      "outputs": [
        {
          "output_type": "stream",
          "text": "S\nk\ny\n",
          "name": "stdout"
        }
      ]
    },
    {
      "metadata": {
        "trusted": true
      },
      "cell_type": "code",
      "source": "# iterate backwards\nfor letter in student_name[::-1]:\n    print(letter)",
      "execution_count": 4,
      "outputs": [
        {
          "output_type": "stream",
          "text": "e\ny\nk\nS\n",
          "name": "stdout"
        }
      ]
    },
    {
      "metadata": {
        "trusted": true
      },
      "cell_type": "code",
      "source": "# start at \"y\" , iterate backwards #\nfor letter in student_name[2::-1]:\n    print(letter)\n",
      "execution_count": 5,
      "outputs": [
        {
          "output_type": "stream",
          "text": "y\nk\nS\n",
          "name": "stdout"
        }
      ]
    }
  ],
  "metadata": {
    "kernelspec": {
      "name": "python3",
      "display_name": "Python 3",
      "language": "python"
    },
    "language_info": {
      "mimetype": "text/x-python",
      "nbconvert_exporter": "python",
      "name": "python",
      "file_extension": ".py",
      "version": "3.5.4",
      "pygments_lexer": "ipython3",
      "codemirror_mode": {
        "version": 3,
        "name": "ipython"
      }
    }
  },
  "nbformat": 4,
  "nbformat_minor": 1
}