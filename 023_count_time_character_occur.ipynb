{
  "cells": [
    {
      "metadata": {
        "trusted": true
      },
      "cell_type": "code",
      "source": "# return number of times a charater occur #\n\nwork_tip = \"save your code\"\nprint('letter \"e\" ocurrences')\nwork_tip . count (\"e\")",
      "execution_count": 2,
      "outputs": [
        {
          "output_type": "stream",
          "text": "letter \"e\" ocurrences\n",
          "name": "stdout"
        },
        {
          "output_type": "execute_result",
          "execution_count": 2,
          "data": {
            "text/plain": "2"
          },
          "metadata": {}
        }
      ]
    },
    {
      "metadata": {
        "trusted": true
      },
      "cell_type": "code",
      "source": "print(work_tip)\nprint(\"how many w's?\" , work_tip . count (\"w\"))\nprint(\"how many o's?\" , work_tip . count (\"o\"))\nprint(\"use 'code', how many times?\" , work_tip . count (\"code\"))",
      "execution_count": 5,
      "outputs": [
        {
          "output_type": "stream",
          "text": "save your code\nhow many w's? 0\nhow many o's? 2\nuse 'code', how many times? 1\n",
          "name": "stdout"
        }
      ]
    },
    {
      "metadata": {
        "trusted": true
      },
      "cell_type": "code",
      "source": "# count with slicing #\n\nprint(work_tip[:7])\nprint(\"# o's in first half\")\nprint(work_tip[:7] . count (\"o\"))\nprint()\nprint(work_tip[7:])\nprint(\"# o's in second half\")\nprint(work_tip[7:] . count (\"o\"))",
      "execution_count": 9,
      "outputs": [
        {
          "output_type": "stream",
          "text": "save yo\n# o's in first half\n1\n\nur code\n# o's in second half\n1\n",
          "name": "stdout"
        }
      ]
    }
  ],
  "metadata": {
    "kernelspec": {
      "name": "python3",
      "display_name": "Python 3",
      "language": "python"
    },
    "language_info": {
      "mimetype": "text/x-python",
      "nbconvert_exporter": "python",
      "name": "python",
      "pygments_lexer": "ipython3",
      "version": "3.5.4",
      "file_extension": ".py",
      "codemirror_mode": {
        "version": 3,
        "name": "ipython"
      }
    }
  },
  "nbformat": 4,
  "nbformat_minor": 1
}