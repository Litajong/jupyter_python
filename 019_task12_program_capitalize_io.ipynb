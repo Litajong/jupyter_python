{
 "cells": [
  {
   "cell_type": "code",
   "execution_count": 7,
   "metadata": {},
   "outputs": [
    {
     "name": "stdout",
     "output_type": "stream",
     "text": [
      "LalitaJong\n",
      "LalItaJOng\n"
     ]
    }
   ],
   "source": [
    "# get user input for first_name #\n",
    "# create an empty string variable: new_name #\n",
    "# iterate through letters in first_name #\n",
    "# add each letter in new_name #\n",
    "# capitalize if letter is an \"i\" or \"o\" *(hint: if, elif, else) #\n",
    "# print new_name #\n",
    "\n",
    "first_name = input()\n",
    "new_name = \"\"\n",
    "\n",
    "for letter in first_name : \n",
    "    if letter.lower() == \"i\" :\n",
    "        new_name += letter.upper()\n",
    "        \n",
    "    elif letter.lower() == \"o\" :\n",
    "        new_name += letter.upper()\n",
    "        \n",
    "    else:\n",
    "        new_name += letter\n",
    "\n",
    "print(new_name)\n"
   ]
  }
 ],
 "metadata": {
  "kernelspec": {
   "display_name": "Python 3",
   "language": "python",
   "name": "python3"
  },
  "language_info": {
   "codemirror_mode": {
    "name": "ipython",
    "version": 3
   },
   "file_extension": ".py",
   "mimetype": "text/x-python",
   "name": "python",
   "nbconvert_exporter": "python",
   "pygments_lexer": "ipython3",
   "version": "3.5.4"
  }
 },
 "nbformat": 4,
 "nbformat_minor": 1
}
