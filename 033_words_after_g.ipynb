{
  "cells": [
    {
      "metadata": {
        "trusted": true
      },
      "cell_type": "code",
      "source": "# Program: Words after \"G\"/\"g\" #\n# Create a program inputs a phrase (like a famous quotation) and prints all of the words that start with h-z\n\nsample_quote = \"Wheresoever you go, go with all your heart\"\nword = \"\"\n\nfor character in sample_quote:\n    if character.isalpha():\n        word += character.lower()\n        \n    elif word[::] >= \"h\":\n        print(word.upper())\n        word = \"\"\n            \n    else:\n        word = \"\"\n        \nprint(word.upper())",
      "execution_count": 28,
      "outputs": [
        {
          "output_type": "stream",
          "text": "WHERESOEVER\nYOU\nWITH\nYOUR\nHEART\n",
          "name": "stdout"
        }
      ]
    }
  ],
  "metadata": {
    "kernelspec": {
      "name": "python3",
      "display_name": "Python 3",
      "language": "python"
    },
    "language_info": {
      "mimetype": "text/x-python",
      "nbconvert_exporter": "python",
      "name": "python",
      "file_extension": ".py",
      "version": "3.5.4",
      "pygments_lexer": "ipython3",
      "codemirror_mode": {
        "version": 3,
        "name": "ipython"
      }
    }
  },
  "nbformat": 4,
  "nbformat_minor": 1
}