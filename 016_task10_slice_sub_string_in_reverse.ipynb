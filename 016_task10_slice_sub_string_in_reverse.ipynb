{
  "cells": [
    {
      "metadata": {
        "trusted": true
      },
      "cell_type": "code",
      "source": "# Reverse use slicing #\n# print the first 4 letters of long_word #\n\nlong_word = \"timeline\"\nprint(long_word[:4])",
      "execution_count": 2,
      "outputs": [
        {
          "output_type": "stream",
          "text": "time\n",
          "name": "stdout"
        }
      ]
    },
    {
      "metadata": {
        "trusted": true
      },
      "cell_type": "code",
      "source": "# print the first 4 letters of long_word in reverse #\nprint(long_word[3::-1])",
      "execution_count": 3,
      "outputs": [
        {
          "output_type": "stream",
          "text": "emit\n",
          "name": "stdout"
        }
      ]
    },
    {
      "metadata": {
        "trusted": true
      },
      "cell_type": "code",
      "source": "# print the last 4 letters of long_word in reverse #\nlong_word = \"timeline\"\nprint(long_word[7:3:-1])",
      "execution_count": 5,
      "outputs": [
        {
          "output_type": "stream",
          "text": "enil\n",
          "name": "stdout"
        }
      ]
    },
    {
      "metadata": {
        "trusted": true
      },
      "cell_type": "code",
      "source": "# print the letters spanning indexs 3 to 6 of long_word in reverse #\nlong_word = \"timeline\"\nprint(long_word[6:2:-1])",
      "execution_count": 13,
      "outputs": [
        {
          "output_type": "stream",
          "text": "nile\n",
          "name": "stdout"
        }
      ]
    },
    {
      "metadata": {
        "trusted": true
      },
      "cell_type": "code",
      "source": "",
      "execution_count": null,
      "outputs": []
    }
  ],
  "metadata": {
    "kernelspec": {
      "name": "python3",
      "display_name": "Python 3",
      "language": "python"
    },
    "language_info": {
      "mimetype": "text/x-python",
      "nbconvert_exporter": "python",
      "name": "python",
      "file_extension": ".py",
      "version": "3.5.4",
      "pygments_lexer": "ipython3",
      "codemirror_mode": {
        "version": 3,
        "name": "ipython"
      }
    }
  },
  "nbformat": 4,
  "nbformat_minor": 1
}