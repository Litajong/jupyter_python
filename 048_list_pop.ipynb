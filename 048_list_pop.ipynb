{
 "cells": [
  {
   "cell_type": "code",
   "execution_count": 1,
   "metadata": {},
   "outputs": [
    {
     "name": "stdout",
     "output_type": "stream",
     "text": [
      "['Joana', 'Alton', 'Tobias']\n",
      "Hello, Tobias\n"
     ]
    }
   ],
   "source": [
    "# pop() gets the last item by default\n",
    "party_list = [\"Joana\", \"Alton\", \"Tobias\"]\n",
    "print(party_list)\n",
    "\n",
    "print(\"Hello,\", party_list.pop())"
   ]
  },
  {
   "cell_type": "code",
   "execution_count": 2,
   "metadata": {},
   "outputs": [
    {
     "name": "stdout",
     "output_type": "stream",
     "text": [
      "\n",
      " ['Joana', 'Alton']\n",
      "Hello, Alton\n"
     ]
    }
   ],
   "source": [
    "print(\"\\n\", party_list)\n",
    "print(\"Hello,\", party_list.pop())"
   ]
  },
  {
   "cell_type": "code",
   "execution_count": 3,
   "metadata": {},
   "outputs": [
    {
     "name": "stdout",
     "output_type": "stream",
     "text": [
      "\n",
      " ['Joana']\n",
      "Hello, Joana\n"
     ]
    }
   ],
   "source": [
    "print(\"\\n\", party_list)\n",
    "print(\"Hello,\", party_list.pop())"
   ]
  },
  {
   "cell_type": "code",
   "execution_count": 5,
   "metadata": {},
   "outputs": [
    {
     "name": "stdout",
     "output_type": "stream",
     "text": [
      "\n",
      " []\n"
     ]
    }
   ],
   "source": [
    "print(\"\\n\", party_list)"
   ]
  },
  {
   "cell_type": "code",
   "execution_count": 6,
   "metadata": {},
   "outputs": [
    {
     "name": "stdout",
     "output_type": "stream",
     "text": [
      "before: [11, 21, 13, 14, 51, 161, 117, 181]\n",
      "after : [11, 21, 13, 51, 161, 117, 181]\n"
     ]
    }
   ],
   "source": [
    "# can pop specific index like pop(3)\n",
    "\n",
    "number_list = [11, 21, 13, 14, 51, 161, 117, 181]\n",
    "print(\"before:\", number_list)\n",
    "\n",
    "number_list.pop(3)\n",
    "print(\"after :\", number_list)"
   ]
  },
  {
   "cell_type": "code",
   "execution_count": 8,
   "metadata": {},
   "outputs": [
    {
     "name": "stdout",
     "output_type": "stream",
     "text": [
      "list before: [11, 21, 13, 14, 51, 161, 117, 181]\n",
      "list after : [11, 21, 13, 14, 51, 161]\n",
      "add the popped values: 181 + 117 = 298\n"
     ]
    }
   ],
   "source": [
    "#set a variable to a poped value\n",
    "\n",
    "number_list = [11, 21, 13, 14, 51, 161, 117, 181]\n",
    "print(\"list before:\", number_list)\n",
    "\n",
    "num_1 = number_list.pop()\n",
    "num_2 = number_list.pop()\n",
    "\n",
    "print(\"list after :\", number_list)\n",
    "\n",
    "print(\"add the popped values:\", num_1, \"+\", num_2, \"=\", num_1 + num_2)"
   ]
  },
  {
   "cell_type": "code",
   "execution_count": 9,
   "metadata": {},
   "outputs": [
    {
     "name": "stdout",
     "output_type": "stream",
     "text": [
      "First and last items from ft_bones list:  calcaneus medial cuneiform\n",
      "\n",
      " remaining list: ['talus', 'cuboid', 'navicular', 'lateral cuneiform', 'intermediate cuneiform']\n"
     ]
    }
   ],
   "source": [
    "# Task: pop()\n",
    "# pop() and print the first and last items from the ft_bones list\n",
    "ft_bones = [\"calcaneus\", \"talus\", \"cuboid\", \"navicular\", \"lateral cuneiform\", \"intermediate cuneiform\", \"medial cuneiform\"]\n",
    "\n",
    "ft_first = ft_bones.pop(0)\n",
    "ft_last = ft_bones.pop(-1)\n",
    "print(\"First and last items from ft_bones list: \", ft_first, ft_last)\n",
    "\n",
    "# [ ] print the remaining list\n",
    "print(\"\\n\", \"remaining list:\", ft_bones)"
   ]
  }
 ],
 "metadata": {
  "kernelspec": {
   "display_name": "Python 3",
   "language": "python",
   "name": "python3"
  },
  "language_info": {
   "codemirror_mode": {
    "name": "ipython",
    "version": 3
   },
   "file_extension": ".py",
   "mimetype": "text/x-python",
   "name": "python",
   "nbconvert_exporter": "python",
   "pygments_lexer": "ipython3",
   "version": "3.5.4"
  }
 },
 "nbformat": 4,
 "nbformat_minor": 1
}
