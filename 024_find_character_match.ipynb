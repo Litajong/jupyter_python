{
 "cells": [
  {
   "cell_type": "code",
   "execution_count": 4,
   "metadata": {},
   "outputs": [
    {
     "name": "stdout",
     "output_type": "stream",
     "text": [
      "find the index of the first space\n",
      "0 \n",
      "\n"
     ]
    }
   ],
   "source": [
    "# returns index of first character match #\n",
    "\n",
    "work_tip = \"save your code\"\n",
    "print(\"find the index of the first space\")\n",
    "print(work_tip . find(\"\"),\"\\n\")"
   ]
  },
  {
   "cell_type": "code",
   "execution_count": null,
   "metadata": {},
   "outputs": [],
   "source": [
    "work_tip = \"good code has meaningful variable names\"\n",
    "print(work_tip)\n",
    "\n",
    "code_here = work_tip . find(\"code\")\n",
    "print(code_here , '= starting index for \"code\"')"
   ]
  }
 ],
 "metadata": {
  "kernelspec": {
   "display_name": "Python 3",
   "language": "python",
   "name": "python3"
  },
  "language_info": {
   "codemirror_mode": {
    "name": "ipython",
    "version": 3
   },
   "file_extension": ".py",
   "mimetype": "text/x-python",
   "name": "python",
   "nbconvert_exporter": "python",
   "pygments_lexer": "ipython3",
   "version": "3.5.4"
  }
 },
 "nbformat": 4,
 "nbformat_minor": 1
}
