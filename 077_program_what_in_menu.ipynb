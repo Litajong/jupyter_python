{
  "cells": [
    {
      "metadata": {
        "trusted": true
      },
      "cell_type": "code",
      "source": "# Program: What is on the menu?\n# Create a program where the user supplies input to search the menu\n# store the user response in a variable menu_ask\n# use the menu from above and add some additional items\n\nmenu = \"salad, pasta, sandwich, pizza, drinks, dessert\"\n\nmenu_ask = input(\"What would you like to eat? :\").lower()\n\nprint('There is your food in the menu:', menu_ask in menu)\n",
      "execution_count": 1,
      "outputs": [
        {
          "output_type": "stream",
          "name": "stdout",
          "text": "What would you like to eat? :burger\nThere is your food in the menu: False\n"
        }
      ]
    },
    {
      "metadata": {
        "trusted": true
      },
      "cell_type": "code",
      "source": "# Challenge: Add to the menu\n# print the current menu\n# get user input for add_item variable\n# new_menu use string addition to add add_item to menu\n# print the new_menu testing\n# add a cell below add menu\n# check if an item is on the menu, check for previous items and the item you added\n\n# add to menu\nprint(\"Previous menu: \",menu)\nadd_item = input(\"Add your favorite food to the menu\").lower()\nnew_menu = menu + \", \" + add_item\nprint(\"New menu: \",new_menu)\n\nprint('There is your food in the menu:', add_item in new_menu)",
      "execution_count": 6,
      "outputs": [
        {
          "output_type": "stream",
          "text": "Previous menu:  salad, pasta, sandwich, pizza, drinks, dessert\nAdd your favorite food to the menuhamburger\nNew menu:  salad, pasta, sandwich, pizza, drinks, dessert, hamburger\nThere is your food in the menu: True\n",
          "name": "stdout"
        }
      ]
    },
    {
      "metadata": {
        "trusted": true
      },
      "cell_type": "code",
      "source": "# Testing Add to Menu - create user input to search for an item on the new menu\nmenu_ask = input(\"What food do your search? \").lower()\nprint('There is your food in the menu:', add_item in new_menu)\n",
      "execution_count": 7,
      "outputs": [
        {
          "output_type": "stream",
          "name": "stdout",
          "text": "What food do your search? hamburger\nThere is your food in the menu: True\n"
        }
      ]
    }
  ],
  "metadata": {
    "kernelspec": {
      "name": "python3",
      "display_name": "Python 3",
      "language": "python"
    },
    "language_info": {
      "mimetype": "text/x-python",
      "nbconvert_exporter": "python",
      "name": "python",
      "file_extension": ".py",
      "version": "3.5.4",
      "pygments_lexer": "ipython3",
      "codemirror_mode": {
        "version": 3,
        "name": "ipython"
      }
    }
  },
  "nbformat": 4,
  "nbformat_minor": 1
}