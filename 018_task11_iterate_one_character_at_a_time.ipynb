{
 "cells": [
  {
   "cell_type": "code",
   "execution_count": 26,
   "metadata": {},
   "outputs": [
    {
     "name": "stdout",
     "output_type": "stream",
     "text": [
      "Skye to SkYe\n"
     ]
    }
   ],
   "source": [
    "# creates a new string (new_name) adding a letter (ltr) each loop #\n",
    "\n",
    "student_name = \"Skye\"\n",
    "new_name = \"\"\n",
    "\n",
    "for ltr in student_name :\n",
    "    if ltr.lower() == \"y\" :\n",
    "        new_name += ltr.upper()\n",
    "    else:\n",
    "        new_name = new_name + ltr\n",
    "print(student_name, \"to\",new_name)"
   ]
  },
  {
   "cell_type": "code",
   "execution_count": 34,
   "metadata": {},
   "outputs": [
    {
     "name": "stdout",
     "output_type": "stream",
     "text": [
      "Napat\n",
      "N\n",
      "\n",
      "a\n",
      "\n",
      "p\n",
      "\n",
      "a\n",
      "\n",
      "t\n",
      "\n"
     ]
    }
   ],
   "source": [
    "# get user input for first_name #\n",
    "# iterate through letter in first_name #\n",
    "# print each letter on a new line #\n",
    "\n",
    "first_name = input()\n",
    "for letter in first_name :\n",
    "    print(letter + \"\\n\")"
   ]
  },
  {
   "cell_type": "code",
   "execution_count": 35,
   "metadata": {},
   "outputs": [
    {
     "name": "stdout",
     "output_type": "stream",
     "text": [
      "Lalita\n",
      "L\n",
      "a\n",
      "l\n",
      "i\n",
      "t\n",
      "a\n"
     ]
    }
   ],
   "source": [
    "first_name = input()\n",
    "for letter in first_name :\n",
    "    print(letter)"
   ]
  }
 ],
 "metadata": {
  "kernelspec": {
   "display_name": "Python 3",
   "language": "python",
   "name": "python3"
  },
  "language_info": {
   "codemirror_mode": {
    "name": "ipython",
    "version": 3
   },
   "file_extension": ".py",
   "mimetype": "text/x-python",
   "name": "python",
   "nbconvert_exporter": "python",
   "pygments_lexer": "ipython3",
   "version": "3.5.4"
  }
 },
 "nbformat": 4,
 "nbformat_minor": 1
}
