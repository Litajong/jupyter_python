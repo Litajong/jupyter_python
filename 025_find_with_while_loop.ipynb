{
  "cells": [
    {
      "metadata": {
        "trusted": true
      },
      "cell_type": "code",
      "source": "work_tip = \"good code has meaningful variable names\"\nprint(\"work_tip:\" , work_tip)\nlocation = work_tip . find (\"o\")\n\n# keeps looping until location = -1 (no \"o\" found) #\nwhile location >= 0:\n    print(\"'o' at index =\" , location)\n    # find(\"o\", location + 1) looks for a \"o\" after index the first \"o\" was found\n    location = work_tip . find(\"o\" , location +1)\nprint(\"no nore o's\")",
      "execution_count": 2,
      "outputs": [
        {
          "output_type": "stream",
          "text": "work_tip: good code has meaningful variable names\n'o' at index = 1\n'o' at index = 2\n'o' at index = 6\nno nore o's\n",
          "name": "stdout"
        }
      ]
    },
    {
      "metadata": {
        "trusted": true
      },
      "cell_type": "code",
      "source": "print('search for \"meaning\" in the sub-string:' , work_tip[13:33] , \"\\n\")\nmeaning_here = work_tip.find(\"meaning\" ,13 , 33)\nprint('\"meaning\" found in work_tip[13:33] sub-string search at index', meaning_here)",
      "execution_count": 4,
      "outputs": [
        {
          "output_type": "stream",
          "text": "search for \"meaning\" in the sub-string:  meaningful variable \n\n\"meaning\" found in work_tip[13:33] sub-string search at index 14\n",
          "name": "stdout"
        }
      ]
    }
  ],
  "metadata": {
    "kernelspec": {
      "name": "python3",
      "display_name": "Python 3",
      "language": "python"
    },
    "language_info": {
      "mimetype": "text/x-python",
      "nbconvert_exporter": "python",
      "name": "python",
      "pygments_lexer": "ipython3",
      "version": "3.5.4",
      "file_extension": ".py",
      "codemirror_mode": {
        "version": 3,
        "name": "ipython"
      }
    }
  },
  "nbformat": 4,
  "nbformat_minor": 1
}