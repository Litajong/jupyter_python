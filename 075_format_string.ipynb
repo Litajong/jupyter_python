{
 "cells": [
  {
   "cell_type": "code",
   "execution_count": 1,
   "metadata": {},
   "outputs": [
    {
     "name": "stdout",
     "output_type": "stream",
     "text": [
      "Ms. browning is in her office.\n"
     ]
    }
   ],
   "source": [
    "#format with .capitalize(), .lower(), .upper(), .swapcase()\n",
    "\n",
    "print(\"ms. Browning is in her office.\".capitalize())"
   ]
  },
  {
   "cell_type": "code",
   "execution_count": 2,
   "metadata": {},
   "outputs": [
    {
     "name": "stdout",
     "output_type": "stream",
     "text": [
      "Green Green green GREEN and GREEN!\n"
     ]
    }
   ],
   "source": [
    "fav_color = \"green\"\n",
    "print(fav_color.capitalize(),fav_color.title(), fav_color.lower(), fav_color.swapcase(),\"and\", fav_color.upper()+\"!\")"
   ]
  },
  {
   "cell_type": "code",
   "execution_count": 3,
   "metadata": {},
   "outputs": [
    {
     "name": "stdout",
     "output_type": "stream",
     "text": [
      "Tomyum is spicy and sour soup\n"
     ]
    }
   ],
   "source": [
    "# get input for a variable, fav_food, that describes a favorite food\n",
    "\n",
    "fav_food = input()"
   ]
  },
  {
   "cell_type": "code",
   "execution_count": 4,
   "metadata": {},
   "outputs": [
    {
     "name": "stdout",
     "output_type": "stream",
     "text": [
      "TOMYUM IS SPICY AND SOUR SOUP\n"
     ]
    }
   ],
   "source": [
    "# display fav_food as ALL CAPS, used in a sentence\n",
    "print(fav_food.upper())"
   ]
  },
  {
   "cell_type": "code",
   "execution_count": 5,
   "metadata": {},
   "outputs": [
    {
     "name": "stdout",
     "output_type": "stream",
     "text": [
      "tomyum is spicy and sour soup\n"
     ]
    }
   ],
   "source": [
    "# display fav_food as all lower case, used in a sentence\n",
    "print(fav_food.lower())"
   ]
  },
  {
   "cell_type": "code",
   "execution_count": 7,
   "metadata": {},
   "outputs": [
    {
     "name": "stdout",
     "output_type": "stream",
     "text": [
      "tOMYUM IS SPICY AND SOUR SOUP\n"
     ]
    }
   ],
   "source": [
    "# display fav_food with swapped case, used in a sentence\n",
    "print(fav_food.swapcase())"
   ]
  },
  {
   "cell_type": "code",
   "execution_count": 8,
   "metadata": {},
   "outputs": [
    {
     "name": "stdout",
     "output_type": "stream",
     "text": [
      "Tomyum is spicy and sour soup\n"
     ]
    }
   ],
   "source": [
    "# display fav_food with capitalization, used in a sentence\n",
    "print(fav_food.capitalize())"
   ]
  },
  {
   "cell_type": "code",
   "execution_count": 12,
   "metadata": {},
   "outputs": [
    {
     "name": "stdout",
     "output_type": "stream",
     "text": [
      "FOREST GREEN forest green fOREST gREEN Forest green\n"
     ]
    }
   ],
   "source": [
    "# [] display the fav_color variable as upper, lower, swapcase, and capitalize formatting in a single print() statement\n",
    "fav_color = \"Forest Green\"\n",
    "\n",
    "print(fav_color.upper(), fav_color.lower(), fav_color.swapcase(), fav_color.capitalize())"
   ]
  },
  {
   "cell_type": "code",
   "execution_count": 15,
   "metadata": {},
   "outputs": [
    {
     "name": "stdout",
     "output_type": "stream",
     "text": [
      "tomyum\n",
      "TOMYUM\n"
     ]
    }
   ],
   "source": [
    "fav_food = input().upper()\n",
    "print(fav_food)"
   ]
  }
 ],
 "metadata": {
  "kernelspec": {
   "display_name": "Python 3",
   "language": "python",
   "name": "python3"
  },
  "language_info": {
   "codemirror_mode": {
    "name": "ipython",
    "version": 3
   },
   "file_extension": ".py",
   "mimetype": "text/x-python",
   "name": "python",
   "nbconvert_exporter": "python",
   "pygments_lexer": "ipython3",
   "version": "3.5.4"
  }
 },
 "nbformat": 4,
 "nbformat_minor": 1
}
