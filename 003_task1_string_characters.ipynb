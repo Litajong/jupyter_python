{
  "cells": [
    {
      "metadata": {
        "trusted": true
      },
      "cell_type": "code",
      "source": "##assign a string 5 or more letters long to the variable: street_name##\n###print the 1st, 3rd and 5th characters###\n\nstreet_name = \"Bradrock\"\nprint(street_name[0]),\nprint(street_name[2])\nprint(street_name[4])\n\n",
      "execution_count": 2,
      "outputs": [
        {
          "output_type": "stream",
          "text": "B\na\nr\n",
          "name": "stdout"
        }
      ]
    },
    {
      "metadata": {
        "trusted": true
      },
      "cell_type": "code",
      "source": "#Create an input variable: team_name - ask that second letter = \"i\", \"o\", or \"u\"#\n##Test if team_name 2nd character = \"i\", \"o\", or \"u\" and print a message##\n###use if, elif and else###\n\nteam_name = \"Manchester\"\n\nif team_name[1].lower() == \"i\":\n    print('You rock! 2nd character is I:', team_name)\n    \nelif team_name[1].lower() == \"o\":\n    print('You rock! 2nd character is O:', team_name)\n    \nelif team_name[1].lower() == \"u\":\n    print('You rock! 2nd character is U:', team_name)    \n\nelse:\n    print(\"It's not your day, try again tomorrow:\", team_name)\n    ",
      "execution_count": 15,
      "outputs": [
        {
          "output_type": "stream",
          "text": "It's not your day, try again tomorrow: Manchester\n",
          "name": "stdout"
        }
      ]
    },
    {
      "metadata": {
        "trusted": true
      },
      "cell_type": "code",
      "source": "team_name = \"Liverpool\"\n\nif team_name[1].lower() == \"i\":\n    print('You rock! 2nd character is I:', team_name)\n    \nelif team_name[1].lower() == \"o\":\n    print('You rock! 2nd character is O:', team_name)\n    \nelif team_name[1].lower() == \"u\":\n    print('You rock! 2nd character is U:', team_name) \n\nelse:\n    print(\"It's not your day, try again tomorrow:\", team_name)\n    ",
      "execution_count": 14,
      "outputs": [
        {
          "output_type": "stream",
          "text": "You rock! 2nd character is I: Liverpool\n",
          "name": "stdout"
        }
      ]
    }
  ],
  "metadata": {
    "kernelspec": {
      "name": "python3",
      "display_name": "Python 3",
      "language": "python"
    },
    "language_info": {
      "mimetype": "text/x-python",
      "nbconvert_exporter": "python",
      "name": "python",
      "pygments_lexer": "ipython3",
      "version": "3.5.4",
      "file_extension": ".py",
      "codemirror_mode": {
        "version": 3,
        "name": "ipython"
      }
    }
  },
  "nbformat": 4,
  "nbformat_minor": 1
}