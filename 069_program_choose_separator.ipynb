{
 "cells": [
  {
   "cell_type": "code",
   "execution_count": 2,
   "metadata": {},
   "outputs": [
    {
     "name": "stdout",
     "output_type": "stream",
     "text": [
      "Enter specisl character_\n",
      "Jack_and_Jill_went_up_the_hill_To_fetch_a_pail_of_water\n"
     ]
    }
   ],
   "source": [
    "# Program: Choose the separator\n",
    "phrase_words = ['Jack', 'and', 'Jill', 'went', 'up', 'the', 'hill', 'To', 'fetch', 'a', 'pail', 'of', 'water']\n",
    "\n",
    "# get user input on what to use to join words (\" \", *, -, etc...) - store in variable: separator\n",
    "char_input = input(\"Enter specisl character\")\n",
    "\n",
    "# join pharse_words with the separator and print\n",
    "print(char_input.join(phrase_words))\n"
   ]
  }
 ],
 "metadata": {
  "kernelspec": {
   "display_name": "Python 3",
   "language": "python",
   "name": "python3"
  },
  "language_info": {
   "codemirror_mode": {
    "name": "ipython",
    "version": 3
   },
   "file_extension": ".py",
   "mimetype": "text/x-python",
   "name": "python",
   "nbconvert_exporter": "python",
   "pygments_lexer": "ipython3",
   "version": "3.5.4"
  }
 },
 "nbformat": 4,
 "nbformat_minor": 1
}
