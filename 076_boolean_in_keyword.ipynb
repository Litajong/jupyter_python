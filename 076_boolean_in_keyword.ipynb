{
  "cells": [
    {
      "metadata": {
        "trusted": true
      },
      "cell_type": "code",
      "source": "# Boolean in keyword\n# the in keyword can be used as a simple search returning True or False indication if a string is included in a target sequence.\n\nmenu = \"salad, pasta, sandwich, pizza, drinks, dessert\"\nprint('pizza' in menu)",
      "execution_count": 4,
      "outputs": [
        {
          "output_type": "stream",
          "text": "True\n",
          "name": "stdout"
        }
      ]
    },
    {
      "metadata": {
        "trusted": true
      },
      "cell_type": "code",
      "source": "greeting = \"Hello World!\"\nprint(\"'hello' in greeting = \",'hello' in greeting)",
      "execution_count": 2,
      "outputs": [
        {
          "output_type": "stream",
          "text": "'hello' in greeting =  False\n",
          "name": "stdout"
        }
      ]
    },
    {
      "metadata": {
        "trusted": true
      },
      "cell_type": "code",
      "source": "print(\"'Hello' in greeting = \", 'Hello' in greeting)\n",
      "execution_count": 3,
      "outputs": [
        {
          "output_type": "stream",
          "text": "'Hello' in greeting =  True\n",
          "name": "stdout"
        }
      ]
    },
    {
      "metadata": {
        "trusted": true
      },
      "cell_type": "code",
      "source": "# removing case sensitivity from a string comparison\n\ngreeting = \"Hello World!\"\nprint(\"'hello' in greeting = \",'hello' in greeting)\nprint(\"'Hello' in greeting = \", 'Hello' in greeting)\nprint(\"'hello' in greeting if lower used = \", 'hello'.lower() in greeting.lower())",
      "execution_count": 5,
      "outputs": [
        {
          "output_type": "stream",
          "text": "'hello' in greeting =  False\n'Hello' in greeting =  True\n'hello' in greeting if lower used =  True\n",
          "name": "stdout"
        }
      ]
    },
    {
      "metadata": {
        "trusted": true
      },
      "cell_type": "code",
      "source": "menu = \"salad, pasta, sandwich, pizza, drinks, dessert\"\nprint(\"'Soup' in menu = \", 'Soup' in menu)\nprint(\"'soup' in menu = \", 'Soup' in menu)\nprint(\"'soup' in menu if lower used = \", 'Soup'.lower() in menu.lower())",
      "execution_count": 7,
      "outputs": [
        {
          "output_type": "stream",
          "text": "'Soup' in menu =  False\n'soup' in menu =  False\n'soup' in menu if lower used =  False\n",
          "name": "stdout"
        }
      ]
    },
    {
      "metadata": {
        "trusted": true
      },
      "cell_type": "code",
      "source": "print(\"'Pizza' in menu = \", 'Pizza' in menu)\nprint(\"'pizza' in menu = \", 'pizza' in menu)\nprint(\"'pizza' in menu if lower used = \", 'pizza'.lower() in menu.lower())",
      "execution_count": 10,
      "outputs": [
        {
          "output_type": "stream",
          "text": "'Pizza' in menu =  False\n'pizza' in menu =  True\n'pizza' in menu if lower used =  True\n",
          "name": "stdout"
        }
      ]
    },
    {
      "metadata": {
        "trusted": true
      },
      "cell_type": "code",
      "source": "",
      "execution_count": null,
      "outputs": []
    }
  ],
  "metadata": {
    "kernelspec": {
      "name": "python36",
      "display_name": "Python 3.6",
      "language": "python"
    },
    "language_info": {
      "mimetype": "text/x-python",
      "nbconvert_exporter": "python",
      "name": "python",
      "pygments_lexer": "ipython3",
      "version": "3.6.6",
      "file_extension": ".py",
      "codemirror_mode": {
        "version": 3,
        "name": "ipython"
      }
    }
  },
  "nbformat": 4,
  "nbformat_minor": 1
}