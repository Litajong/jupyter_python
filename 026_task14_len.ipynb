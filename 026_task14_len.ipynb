{
  "cells": [
    {
      "metadata": {
        "trusted": true
      },
      "cell_type": "code",
      "source": "# use len() to find the midpoint of the string #\n# print the halves on seperate lines\n\nrandom_tip = \"wear a hat when it rains\"\nlen(random_tip)\nprint(\"lenght of 'wear a hat when it rains' is\", len(random_tip))\n\nmid_point = int(len(random_tip)/2)\nprint(\"Middle index is\" , mid_point)\nprint(\"Middle letter of string is\" , \"'\",random_tip[mid_point], \"'\")\nprint(\"Half string is\" ,'\"', random_tip[:mid_point] ,'\"')\n\n\n\n",
      "execution_count": 23,
      "outputs": [
        {
          "output_type": "stream",
          "text": "lenght of 'wear a hat when it rains' is 24\nMiddle index is 12\nMiddle letter of string is ' ' h '\nHalf string is \" wear a hat w \"\n",
          "name": "stdout"
        }
      ]
    }
  ],
  "metadata": {
    "kernelspec": {
      "name": "python3",
      "display_name": "Python 3",
      "language": "python"
    },
    "language_info": {
      "mimetype": "text/x-python",
      "nbconvert_exporter": "python",
      "name": "python",
      "pygments_lexer": "ipython3",
      "version": "3.5.4",
      "file_extension": ".py",
      "codemirror_mode": {
        "version": 3,
        "name": "ipython"
      }
    }
  },
  "nbformat": 4,
  "nbformat_minor": 1
}