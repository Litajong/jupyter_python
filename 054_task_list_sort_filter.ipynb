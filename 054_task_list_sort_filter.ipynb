{
  "cells": [
    {
      "metadata": {
        "trusted": true
      },
      "cell_type": "code",
      "source": "# Task: sort and filter\n# Using cities from the example above iterate throught the list using \"for\"/\"in\"\n# Print only cities starting with \"m\"\n\ncities = [\"New York\", \"Shanghai\", \"Munich\", \"Tokyo\", \"Dubai\", \"Mexico City\", \"São Paulo\", \"Hyderabad\"]\nm_city = []\nnon_m_city = []\n\nfor city in cities:\n    if city.startswith(\"M\"):\n        m_city.append(city)\n    else:\n        non_m_city.append(city)\n\nprint(\"Cities starting witn 'm': \" , m_city)\nprint(\"Cities not starting with 'm': \" , non_m_city)",
      "execution_count": 9,
      "outputs": [
        {
          "output_type": "stream",
          "text": "Cities starting witn 'm':  ['Munich', 'Mexico City']\nCities not starting with 'm':  ['New York', 'Shanghai', 'Tokyo', 'Dubai', 'São Paulo', 'Hyderabad']\n",
          "name": "stdout"
        }
      ]
    },
    {
      "metadata": {
        "trusted": true
      },
      "cell_type": "code",
      "source": "#sort into lists with \"A\" in the city name and without \"A\" in the name: a_city & no_a_city\ncities = [\"New York\", \"Shanghai\", \"Munich\", \"Tokyo\", \"Dubai\", \"Mexico City\", \"São Paulo\", \"Hyderabad\"]\na_city = []\nno_a_city = []\n\nfor name in cities:\n    if name.lower().count(\"a\") > 0:\n        a_city.append(name)\n    else:\n        no_a_city.append(name)\n        \nprint(\"Cities with 'A': \", a_city)\nprint(\"Cities without 'A': \", no_a_city)",
      "execution_count": 11,
      "outputs": [
        {
          "output_type": "stream",
          "text": "Cities with 'A':  ['Shanghai', 'Dubai', 'São Paulo', 'Hyderabad']\nCities without 'A':  ['New York', 'Munich', 'Tokyo', 'Mexico City']\n",
          "name": "stdout"
        }
      ]
    }
  ],
  "metadata": {
    "kernelspec": {
      "name": "python3",
      "display_name": "Python 3",
      "language": "python"
    },
    "language_info": {
      "mimetype": "text/x-python",
      "nbconvert_exporter": "python",
      "name": "python",
      "file_extension": ".py",
      "version": "3.5.4",
      "pygments_lexer": "ipython3",
      "codemirror_mode": {
        "version": 3,
        "name": "ipython"
      }
    }
  },
  "nbformat": 4,
  "nbformat_minor": 1
}