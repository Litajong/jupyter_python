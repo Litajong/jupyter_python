{
  "cells": [
    {
      "metadata": {
        "trusted": true
      },
      "cell_type": "code",
      "source": "# assign a string 5 or more letters long to the variable: street_name #\nstreet_name = \"Braddrock\"\n\n# print the last 3 characters of street_name #\nlast_three_character = street_name[-1] + street_name[-2] + street_name[-3]\nprint(\"The last 3 characters of\" , street_name , \":\" , last_three_character)",
      "execution_count": 10,
      "outputs": [
        {
          "output_type": "stream",
          "text": "The last 3 characters of Braddrock : kco\n",
          "name": "stdout"
        }
      ]
    },
    {
      "metadata": {
        "trusted": true
      },
      "cell_type": "code",
      "source": "# create and assign string variable: first_name #\nfirst_name = \"Lalita\"\n\n# print the first and last letters of name #\nprint(\"The first letter of\" , first_name , \":\" , first_name[0] . lower())\n\nprint(\"The last letter of\" , first_name , \":\" , first_name[-1] . lower())\n",
      "execution_count": 18,
      "outputs": [
        {
          "output_type": "stream",
          "text": "The first letter of Lalita : l\nThe last letter of Lalita : a\n",
          "name": "stdout"
        }
      ]
    }
  ],
  "metadata": {
    "kernelspec": {
      "name": "python3",
      "display_name": "Python 3",
      "language": "python"
    },
    "language_info": {
      "mimetype": "text/x-python",
      "nbconvert_exporter": "python",
      "name": "python",
      "pygments_lexer": "ipython3",
      "version": "3.5.4",
      "file_extension": ".py",
      "codemirror_mode": {
        "version": 3,
        "name": "ipython"
      }
    }
  },
  "nbformat": 4,
  "nbformat_minor": 1
}