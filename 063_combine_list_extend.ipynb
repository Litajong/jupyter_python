{
 "cells": [
  {
   "cell_type": "code",
   "execution_count": 7,
   "metadata": {},
   "outputs": [
    {
     "name": "stdout",
     "output_type": "stream",
     "text": [
      "ALL CITIES ['New York', 'Shanghai', 'Munich', 'Toyko', 'Dubai', 'Mexico City', 'São Paulo', 'Hyderabad', 'Reykjavík', 'Moscow', 'Beijing', 'Lamu']\n"
     ]
    }
   ],
   "source": [
    "visited_cities = [\"New York\", \"Shanghai\", \"Munich\", \"Toyko\", \"Dubai\", \"Mexico City\", \"São Paulo\", \"Hyderabad\"]\n",
    "wish_cities = [\"Reykjavík\", \"Moscow\", \"Beijing\", \"Lamu\"]\n",
    "\n",
    "# extending visited_cities list (IN PLACE) by concatenating wish_cities\n",
    "visited_cities.extend(wish_cities)\n",
    "print(\"ALL CITIES\",visited_cities)"
   ]
  },
  {
   "cell_type": "code",
   "execution_count": 10,
   "metadata": {},
   "outputs": [
    {
     "name": "stdout",
     "output_type": "stream",
     "text": [
      "['New York', 'Shanghai', 'Munich', 'Toyko', 'Dubai', 'Mexico City', 'São Paulo', 'Hyderabad', 'Reykjavík', 'Moscow', 'Beijing', 'Lamu']\n"
     ]
    }
   ],
   "source": [
    "all_cities = visited_cities + wish_cities\n",
    "print(all_cities)"
   ]
  },
  {
   "cell_type": "code",
   "execution_count": 11,
   "metadata": {},
   "outputs": [
    {
     "name": "stdout",
     "output_type": "stream",
     "text": [
      "New York\n",
      "Shanghai\n",
      "Munich\n",
      "Toyko\n",
      "Dubai\n",
      "Mexico City\n",
      "São Paulo\n",
      "Hyderabad\n",
      "Reykjavík\n",
      "Moscow\n",
      "Beijing\n",
      "Lamu\n"
     ]
    }
   ],
   "source": [
    "for city in all_cities:\n",
    "    print(city)"
   ]
  },
  {
   "cell_type": "code",
   "execution_count": 12,
   "metadata": {},
   "outputs": [
    {
     "name": "stdout",
     "output_type": "stream",
     "text": [
      "Team A: [0, 2, 2, 2, 4, 4, 4, 5, 6, 6, 6] \n",
      "Team B: [0, 0, 0, 1, 1, 2, 3, 3, 3, 6, 8]\n"
     ]
    }
   ],
   "source": [
    "team_a = [0,2,2,2,4,4,4,5,6,6,6]\n",
    "team_b = [0,0,0,1,1,2,3,3,3,6,8]\n",
    "print(\"Team A:\", team_a, \"\\nTeam B:\",team_b)"
   ]
  },
  {
   "cell_type": "code",
   "execution_count": 13,
   "metadata": {},
   "outputs": [
    {
     "name": "stdout",
     "output_type": "stream",
     "text": [
      "Team toals: [0, 2, 2, 2, 4, 4, 4, 5, 6, 6, 6, 0, 0, 0, 1, 1, 2, 3, 3, 3, 6, 8]\n"
     ]
    }
   ],
   "source": [
    "team_totals = team_a + team_b\n",
    "print(\"Team toals:\", team_totals)"
   ]
  },
  {
   "cell_type": "code",
   "execution_count": 14,
   "metadata": {},
   "outputs": [
    {
     "name": "stdout",
     "output_type": "stream",
     "text": [
      "Team_a extended [0, 2, 2, 2, 4, 4, 4, 5, 6, 6, 6, 0, 0, 0, 1, 1, 2, 3, 3, 3, 6, 8]\n"
     ]
    }
   ],
   "source": [
    "team_a.extend(team_b)\n",
    "print(\"Team_a extended\", team_a)"
   ]
  },
  {
   "cell_type": "code",
   "execution_count": 21,
   "metadata": {},
   "outputs": [
    {
     "name": "stdout",
     "output_type": "stream",
     "text": [
      "Team_a extended [0, 2, 2, 2, 4, 4, 4, 5, 6, 6, 6, 0, 0, 0, 1, 1, 2, 3, 3, 3, 6, 8, 0, 0, 0, 1, 1, 2, 3, 3, 3, 6, 8, 0, 0, 0, 1, 1, 2, 3, 3, 3, 6, 8, 0, 0, 0, 1, 1, 2, 3, 3, 3, 6, 8, 0, 0, 0, 1, 1, 2, 3, 3, 3, 6, 8, 0, 0, 0, 1, 1, 2, 3, 3, 3, 6, 8, 0, 0, 0, 1, 1, 2, 3, 3, 3, 6, 8, 0, 0, 0, 1, 1, 2, 3, 3, 3, 6, 8]\n"
     ]
    }
   ],
   "source": [
    "team_a.extend(team_b)\n",
    "print(\"Team_a extended\", team_a)"
   ]
  },
  {
   "cell_type": "code",
   "execution_count": 27,
   "metadata": {},
   "outputs": [
    {
     "name": "stdout",
     "output_type": "stream",
     "text": [
      "['chicken', 'blue jay', 'crow', 'pigeon', 'robin', 'flamingo', 'sparrow']\n"
     ]
    }
   ],
   "source": [
    "# Task: combine lists\n",
    "# extend the list common_birds with list birds_seen which you must create\n",
    "common_birds = [\"chicken\", \"blue jay\", \"crow\", \"pigeon\"]\n",
    "birds_seen = [\"robin\", \"flamingo\", \"sparrow\"]\n",
    "\n",
    "common_birds.extend(birds_seen)\n",
    "print(common_birds)"
   ]
  },
  {
   "cell_type": "code",
   "execution_count": 28,
   "metadata": {},
   "outputs": [
    {
     "name": "stdout",
     "output_type": "stream",
     "text": [
      "All num:  [1, 2, 3, 4, 5, 6, 7, 8, 9, 10, 20, 30, 40, 50, 60, 70, 80, 90, 100]\n"
     ]
    }
   ],
   "source": [
    "# Task : Create 2 lists zero_nine and ten_onehundred that contain 1-9, and 10 - 100 by 10's.\n",
    "# use list addition to concatenate the lists into all_num and print\n",
    "\n",
    "zero_nine = [1,2,3,4,5,6,7,8,9]\n",
    "ten_onehundred = [10,20,30,40,50,60,70,80,90,100]\n",
    "\n",
    "all_num = zero_nine + ten_onehundred\n",
    "print(\"All num: \", all_num)"
   ]
  }
 ],
 "metadata": {
  "kernelspec": {
   "display_name": "Python 3",
   "language": "python",
   "name": "python3"
  },
  "language_info": {
   "codemirror_mode": {
    "name": "ipython",
    "version": 3
   },
   "file_extension": ".py",
   "mimetype": "text/x-python",
   "name": "python",
   "nbconvert_exporter": "python",
   "pygments_lexer": "ipython3",
   "version": "3.5.4"
  }
 },
 "nbformat": 4,
 "nbformat_minor": 1
}
