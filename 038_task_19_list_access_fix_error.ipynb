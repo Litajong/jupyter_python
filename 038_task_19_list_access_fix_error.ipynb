{
  "cells": [
    {
      "metadata": {
        "trusted": true
      },
      "cell_type": "code",
      "source": "# Review & Run, but ***Do Not Edit*** this code cell\npay_checks = [300, 550, 750, 1500, 800]\n\n# Fix the error by only editing and running the block below\nprint(\" Total of checks 3 & 4 = $\", pay_checks[2] + pay_checks[3])\n\n# Fix the error above by creating and running code in this cell",
      "execution_count": 3,
      "outputs": [
        {
          "output_type": "stream",
          "text": " Total of checks 3 & 4 = $ 2250\n",
          "name": "stdout"
        }
      ]
    },
    {
      "metadata": {
        "trusted": true
      },
      "cell_type": "code",
      "source": "",
      "execution_count": null,
      "outputs": []
    }
  ],
  "metadata": {
    "kernelspec": {
      "name": "python3",
      "display_name": "Python 3",
      "language": "python"
    },
    "language_info": {
      "mimetype": "text/x-python",
      "nbconvert_exporter": "python",
      "name": "python",
      "pygments_lexer": "ipython3",
      "version": "3.5.4",
      "file_extension": ".py",
      "codemirror_mode": {
        "version": 3,
        "name": "ipython"
      }
    }
  },
  "nbformat": 4,
  "nbformat_minor": 1
}