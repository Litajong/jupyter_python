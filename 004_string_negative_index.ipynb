{
  "cells": [
    {
      "metadata": {
        "trusted": true
      },
      "cell_type": "code",
      "source": "student_name = \"Joana\"\nstudent_name [-1]",
      "execution_count": 15,
      "outputs": [
        {
          "output_type": "execute_result",
          "execution_count": 15,
          "data": {
            "text/plain": "'a'"
          },
          "metadata": {}
        }
      ]
    },
    {
      "metadata": {
        "trusted": true
      },
      "cell_type": "code",
      "source": "end_letter = student_name [-1]\nprint(student_name , \"end with\" , \"'\" + end_letter + \"'\")\n",
      "execution_count": 17,
      "outputs": [
        {
          "output_type": "stream",
          "text": "Joana end with 'a'\n",
          "name": "stdout"
        }
      ]
    },
    {
      "metadata": {
        "trusted": true
      },
      "cell_type": "code",
      "source": "second_last_letter = student_name [-2]\nprint(student_name , \"has 2nd to last letter of\" , \"'\" + second_last_letter + \"'\")\n\n      \n                        ",
      "execution_count": 21,
      "outputs": [
        {
          "output_type": "stream",
          "text": "Joana has 2nd to last letter of 'n'\n",
          "name": "stdout"
        }
      ]
    },
    {
      "metadata": {
        "trusted": true
      },
      "cell_type": "code",
      "source": "print(\"for\" , student_name)\nprint(\"index 3 =\" , \"'\" + student_name [3] ,\"'\")\nprint(\"index -2 =\" , \"'\" + student_name [-2] ,\"'\")",
      "execution_count": 27,
      "outputs": [
        {
          "output_type": "stream",
          "text": "for Joana\nindex 3 = 'n '\nindex -2 = 'n '\n",
          "name": "stdout"
        }
      ]
    }
  ],
  "metadata": {
    "kernelspec": {
      "name": "python3",
      "display_name": "Python 3",
      "language": "python"
    },
    "language_info": {
      "mimetype": "text/x-python",
      "nbconvert_exporter": "python",
      "name": "python",
      "file_extension": ".py",
      "version": "3.5.4",
      "pygments_lexer": "ipython3",
      "codemirror_mode": {
        "version": 3,
        "name": "ipython"
      }
    }
  },
  "nbformat": 4,
  "nbformat_minor": 1
}