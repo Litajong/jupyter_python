{
  "cells": [
    {
      "metadata": {
        "trusted": true
      },
      "cell_type": "code",
      "source": "# task\n# Currency Values\n# [ ] create a list of 3 or more currency denomination values, cur_values\n# cur_values, contains values of coins and paper bills (.01, .05, etc.)\n\ncur_values = [.01, .25, 1, 5, 20]\n\n#print the list\nprint(cur_values)\n",
      "execution_count": 8,
      "outputs": [
        {
          "output_type": "stream",
          "text": "[0.01, 0.25, 1, 5, 20]\n",
          "name": "stdout"
        }
      ]
    },
    {
      "metadata": {
        "trusted": true
      },
      "cell_type": "code",
      "source": "#append an item to the list and print the list\ncur_values.append(50)\n\nprint(cur_values)",
      "execution_count": 11,
      "outputs": [
        {
          "output_type": "stream",
          "text": "[0.01, 0.25, 1, 5, 20, 50, 50, 50]\n",
          "name": "stdout"
        }
      ]
    },
    {
      "metadata": {
        "trusted": true
      },
      "cell_type": "code",
      "source": "#create a list of 3 or more currency denomination NAMES, cur_names\n#cur_names contains the NAMES of coins and paper bills \n\ncur_names = ['penny', 'nickle', 'dime']\nprint(cur_names)\n\ncur_names.append('quarter')\nprint(cur_names)",
      "execution_count": 15,
      "outputs": [
        {
          "output_type": "stream",
          "text": "['penny', 'nickle', 'dime']\n['penny', 'nickle', 'dime', 'quarter']\n",
          "name": "stdout"
        }
      ]
    }
  ],
  "metadata": {
    "kernelspec": {
      "name": "python3",
      "display_name": "Python 3",
      "language": "python"
    },
    "language_info": {
      "mimetype": "text/x-python",
      "nbconvert_exporter": "python",
      "name": "python",
      "pygments_lexer": "ipython3",
      "version": "3.5.4",
      "file_extension": ".py",
      "codemirror_mode": {
        "version": 3,
        "name": "ipython"
      }
    }
  },
  "nbformat": 4,
  "nbformat_minor": 1
}