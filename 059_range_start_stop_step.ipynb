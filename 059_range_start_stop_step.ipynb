{
  "cells": [
    {
      "metadata": {
        "trusted": true
      },
      "cell_type": "code",
      "source": "# range(start,stop,step)\n# start: starting integer value of a range loop\n# stop: stopping integer (second argument), does not process stop number\n# step: skip value for each loop (the step tells you how much to skip is an interval in your range)\n\nfor count in range (10,101,10):\n    print(count)",
      "execution_count": 1,
      "outputs": [
        {
          "output_type": "stream",
          "text": "10\n20\n30\n40\n50\n60\n70\n80\n90\n100\n",
          "name": "stdout"
        }
      ]
    },
    {
      "metadata": {
        "trusted": true
      },
      "cell_type": "code",
      "source": "for count in range (25,101,25):\n    print(count)",
      "execution_count": 5,
      "outputs": [
        {
          "output_type": "stream",
          "text": "25\n50\n75\n100\n",
          "name": "stdout"
        }
      ]
    },
    {
      "metadata": {
        "trusted": true
      },
      "cell_type": "code",
      "source": "sub_total = 0\ntemp = 0\n\nfor item in range(25,46,5):\n    temp = sub_total\n    sub_total += item\n    print(\"sub_total: \", temp, \"+\", item, \"=\", sub_total)\n    \nprint(\"Total =\", sub_total)",
      "execution_count": 7,
      "outputs": [
        {
          "output_type": "stream",
          "text": "sub_total:  0 + 25 = 25\nsub_total:  25 + 30 = 55\nsub_total:  55 + 35 = 90\nsub_total:  90 + 40 = 130\nsub_total:  130 + 45 = 175\nTotal = 175\n",
          "name": "stdout"
        }
      ]
    },
    {
      "metadata": {
        "trusted": true
      },
      "cell_type": "code",
      "source": "# printing the 1st and then every other word in spell_list\n\nspell_list = [\"Tuesday\", \"Wednesday\", \"February\", \"November\", \"Annual\", \"Calendar\", \"Solstice\"]\n\nfor index in range (0,len(spell_list),2):\n        print(spell_list[index])   \n",
      "execution_count": 12,
      "outputs": [
        {
          "output_type": "stream",
          "text": "Tuesday\nFebruary\nAnnual\nSolstice\n",
          "name": "stdout"
        }
      ]
    },
    {
      "metadata": {
        "trusted": true
      },
      "cell_type": "code",
      "source": "# casting range to list\n\nodd_list = list(range(1,20,2))\nprint(odd_list)",
      "execution_count": 14,
      "outputs": [
        {
          "output_type": "stream",
          "text": "[1, 3, 5, 7, 9, 11, 13, 15, 17, 19]\n",
          "name": "stdout"
        }
      ]
    },
    {
      "metadata": {
        "trusted": true
      },
      "cell_type": "code",
      "source": "# Task\n# print numbers 10 to 20 by 2's using range\n\nfor count in range(10,21,2):\n    print(count)",
      "execution_count": 19,
      "outputs": [
        {
          "output_type": "stream",
          "text": "10\n12\n14\n16\n18\n20\n",
          "name": "stdout"
        }
      ]
    },
    {
      "metadata": {
        "trusted": true
      },
      "cell_type": "code",
      "source": "# print numbers 20 to 10 using range (need to countdown)\n# Hint: start at 20\n\nfor count in range(20,9,-1):\n    print(count)",
      "execution_count": 22,
      "outputs": [
        {
          "output_type": "stream",
          "text": "20\n19\n18\n17\n16\n15\n14\n13\n12\n11\n10\n",
          "name": "stdout"
        }
      ]
    },
    {
      "metadata": {
        "trusted": true
      },
      "cell_type": "code",
      "source": "# print first and every third word in spell_list\nspell_list = [\"Tuesday\", \"Wednesday\", \"February\", \"November\", \"Annual\", \"Calendar\", \"Solstice\"]\n\nfor word in range(0,len(spell_list),2):\n    print(spell_list[word])",
      "execution_count": 27,
      "outputs": [
        {
          "output_type": "stream",
          "text": "Tuesday\nFebruary\nAnnual\nSolstice\n",
          "name": "stdout"
        }
      ]
    },
    {
      "metadata": {
        "trusted": true
      },
      "cell_type": "code",
      "source": "",
      "execution_count": null,
      "outputs": []
    }
  ],
  "metadata": {
    "kernelspec": {
      "name": "python3",
      "display_name": "Python 3",
      "language": "python"
    },
    "language_info": {
      "mimetype": "text/x-python",
      "nbconvert_exporter": "python",
      "name": "python",
      "file_extension": ".py",
      "version": "3.5.4",
      "pygments_lexer": "ipython3",
      "codemirror_mode": {
        "version": 3,
        "name": "ipython"
      }
    }
  },
  "nbformat": 4,
  "nbformat_minor": 1
}