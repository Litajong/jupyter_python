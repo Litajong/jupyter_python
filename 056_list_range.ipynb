{
  "cells": [
    {
      "metadata": {
        "trusted": true
      },
      "cell_type": "code",
      "source": "range(10)",
      "execution_count": 3,
      "outputs": [
        {
          "output_type": "execute_result",
          "execution_count": 3,
          "data": {
            "text/plain": "range(0, 10)"
          },
          "metadata": {}
        }
      ]
    },
    {
      "metadata": {
        "trusted": true
      },
      "cell_type": "code",
      "source": "list(range(10))",
      "execution_count": 6,
      "outputs": [
        {
          "output_type": "execute_result",
          "execution_count": 6,
          "data": {
            "text/plain": "[0, 1, 2, 3, 4, 5, 6, 7, 8, 9]"
          },
          "metadata": {}
        }
      ]
    },
    {
      "metadata": {
        "trusted": true
      },
      "cell_type": "code",
      "source": "for count in range(10):\n    print(count)",
      "execution_count": 8,
      "outputs": [
        {
          "output_type": "stream",
          "text": "0\n1\n2\n3\n4\n5\n6\n7\n8\n9\n",
          "name": "stdout"
        }
      ]
    },
    {
      "metadata": {
        "trusted": true
      },
      "cell_type": "code",
      "source": "digits = range(10)\nprint(\"digits =\", list(digits), \"\\n\")\nsub_total = 0\n\nfor item in digits:\n    sub_total += item\n    print(\"sub_toatal:\", sub_total)\nprint(\"Total =\", sub_total)",
      "execution_count": 10,
      "outputs": [
        {
          "output_type": "stream",
          "text": "digits = [0, 1, 2, 3, 4, 5, 6, 7, 8, 9] \n\nsub_toatal: 0\nsub_toatal: 1\nsub_toatal: 3\nsub_toatal: 6\nsub_toatal: 10\nsub_toatal: 15\nsub_toatal: 21\nsub_toatal: 28\nsub_toatal: 36\nsub_toatal: 45\nTotal = 45\n",
          "name": "stdout"
        }
      ]
    },
    {
      "metadata": {
        "trusted": true
      },
      "cell_type": "code",
      "source": "spell_list = [\"Tuesday\", \"Wednesday\", \"February\", \"November\", \"Annual\", \"Calendar\", \"Solstice\"]\n\nhalf_1 = int(len(spell_list)/2)\nprint(\"half way = \", half_1, \"\\n\")\n\nfor word in range(half_1):\n    print(spell_list[word])",
      "execution_count": 14,
      "outputs": [
        {
          "output_type": "stream",
          "text": "half way =  3 \n\nTuesday\nWednesday\nFebruary\n",
          "name": "stdout"
        }
      ]
    },
    {
      "metadata": {
        "trusted": true
      },
      "cell_type": "code",
      "source": "spell_list = [\"Tuesday\", \"Wednesday\", \"February\", \"November\", \"Annual\", \"Calendar\", \"Solstice\"]\nlen(spell_list)",
      "execution_count": 15,
      "outputs": [
        {
          "output_type": "execute_result",
          "execution_count": 15,
          "data": {
            "text/plain": "7"
          },
          "metadata": {}
        }
      ]
    }
  ],
  "metadata": {
    "kernelspec": {
      "name": "python3",
      "display_name": "Python 3",
      "language": "python"
    },
    "language_info": {
      "mimetype": "text/x-python",
      "nbconvert_exporter": "python",
      "name": "python",
      "file_extension": ".py",
      "version": "3.5.4",
      "pygments_lexer": "ipython3",
      "codemirror_mode": {
        "version": 3,
        "name": "ipython"
      }
    }
  },
  "nbformat": 4,
  "nbformat_minor": 1
}