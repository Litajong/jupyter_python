{
  "cells": [
    {
      "metadata": {
        "trusted": true
      },
      "cell_type": "code",
      "source": "# create and print a variable , other_word , made of every other letter in long_word #\nlong_word = \"juxtaposition\"\nother_word = \"\"\n\nfor letter in long_word[::2]:\n    other_word += letter\n    \nprint(other_word)",
      "execution_count": 2,
      "outputs": [
        {
          "output_type": "stream",
          "text": "jxaoiin\n",
          "name": "stdout"
        }
      ]
    },
    {
      "metadata": {
        "trusted": true
      },
      "cell_type": "code",
      "source": "# Mirror Color\n# get user input, fav_color\nfav_color = input(\"What is your favorite color? \")\n\n# print fav_color backwards + fav_color\nmirror_color = \"\"\n\nfor letter in fav_color[::-1] :\n    mirror_color += letter\n\nprint(mirror_color + fav_color)\n",
      "execution_count": 5,
      "outputs": [
        {
          "output_type": "stream",
          "name": "stdout",
          "text": "What is your favorite color? Yellow\nwolleYYellow\n"
        }
      ]
    }
  ],
  "metadata": {
    "kernelspec": {
      "name": "python3",
      "display_name": "Python 3",
      "language": "python"
    },
    "language_info": {
      "mimetype": "text/x-python",
      "nbconvert_exporter": "python",
      "name": "python",
      "pygments_lexer": "ipython3",
      "version": "3.5.4",
      "file_extension": ".py",
      "codemirror_mode": {
        "version": 3,
        "name": "ipython"
      }
    }
  },
  "nbformat": 4,
  "nbformat_minor": 1
}