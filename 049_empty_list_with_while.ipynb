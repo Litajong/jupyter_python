{
 "cells": [
  {
   "cell_type": "code",
   "execution_count": 1,
   "metadata": {},
   "outputs": [
    {
     "name": "stdout",
     "output_type": "stream",
     "text": [
      "['Lab', 'Pug', 'Poodle'] \n",
      "\n",
      "Poodle popped, list now = ['Lab', 'Pug']\n",
      "Pug popped, list now = ['Lab']\n",
      "Lab popped, list now = []\n"
     ]
    }
   ],
   "source": [
    "# while 'empty list' evaluates as False\n",
    "# ahile []:\n",
    "\n",
    "dog_types = [\"Lab\", \"Pug\", \"Poodle\"]\n",
    "print(dog_types, \"\\n\")\n",
    "\n",
    "while dog_types: \n",
    "    print(dog_types.pop(), \"popped, list now =\", dog_types)"
   ]
  }
 ],
 "metadata": {
  "kernelspec": {
   "display_name": "Python 3",
   "language": "python",
   "name": "python3"
  },
  "language_info": {
   "codemirror_mode": {
    "name": "ipython",
    "version": 3
   },
   "file_extension": ".py",
   "mimetype": "text/x-python",
   "name": "python",
   "nbconvert_exporter": "python",
   "pygments_lexer": "ipython3",
   "version": "3.5.4"
  }
 },
 "nbformat": 4,
 "nbformat_minor": 1
}
