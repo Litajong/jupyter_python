{
 "cells": [
  {
   "cell_type": "code",
   "execution_count": 2,
   "metadata": {},
   "outputs": [
    {
     "name": "stdout",
     "output_type": "stream",
     "text": [
      "['H', 'e', 'l', 'l', 'o']\n"
     ]
    }
   ],
   "source": [
    "# Cast a string to a list of characters\n",
    "hello_letters = list(\"Hello\")\n",
    "print(hello_letters)\n"
   ]
  },
  {
   "cell_type": "code",
   "execution_count": 4,
   "metadata": {},
   "outputs": [
    {
     "name": "stdout",
     "output_type": "stream",
     "text": [
      "Hello world\n"
     ]
    }
   ],
   "source": [
    "# print to the same line with multiple print statements (end=)\n",
    "# or insert any character as an end in print(\"String\", end=\"+\")\n",
    "\n",
    "print('Hello', end = ' ')\n",
    "print('world')"
   ]
  },
  {
   "cell_type": "code",
   "execution_count": 5,
   "metadata": {},
   "outputs": [
    {
     "name": "stdout",
     "output_type": "stream",
     "text": [
      "c~o~n~c~a~t~e~n~a~t~e~s\n"
     ]
    }
   ],
   "source": [
    "# cast sting to list\n",
    "word_letters = list(\"concatenates\")\n",
    "\n",
    "# .join() concatenates the list\n",
    "# print on same line setting the end character\n",
    "print('~'.join(word_letters))\n"
   ]
  },
  {
   "cell_type": "code",
   "execution_count": 6,
   "metadata": {},
   "outputs": [
    {
     "name": "stdout",
     "output_type": "stream",
     "text": [
      "Hello World!\n",
      "still something to learn about print()\n"
     ]
    }
   ],
   "source": [
    "# the default print end\n",
    "print(\"Hello World!\", end=\"\\n\")\n",
    "print('still something to learn about print()')\n"
   ]
  },
  {
   "cell_type": "code",
   "execution_count": 10,
   "metadata": {},
   "outputs": [
    {
     "name": "stdout",
     "output_type": "stream",
     "text": [
      "Hello World!!!!!!!!\n",
      "still something to learn about print()\n"
     ]
    }
   ],
   "source": [
    "print(\"Hello World\", end=\"!!!!!!!!\\n\")\n",
    "print('still something to learn about print()')"
   ]
  },
  {
   "cell_type": "code",
   "execution_count": 12,
   "metadata": {
    "scrolled": true
   },
   "outputs": [
    {
     "name": "stdout",
     "output_type": "stream",
     "text": [
      "C*o*n*c*a*t*e*n*a*t*i*o*n*"
     ]
    }
   ],
   "source": [
    "# end inserts any valid str character: A-z, 0-9,!,@,*,\\n,\\t or ''(empty string)...\n",
    "for letter in \"Concatenation\":\n",
    "    print(letter, end='*')"
   ]
  },
  {
   "cell_type": "code",
   "execution_count": 19,
   "metadata": {},
   "outputs": [
    {
     "name": "stdout",
     "output_type": "stream",
     "text": [
      "Everybody hurts sometimes, Everybody hurts someday, But everything gonba be alright \n",
      "\n",
      "Everybody \n",
      "\n",
      "hurts \n",
      "\n",
      "sometimes, \n",
      "\n",
      "Everybody \n",
      "\n",
      "hurts \n",
      "\n",
      "someday, \n",
      "\n",
      "But \n",
      "\n",
      "everything \n",
      "\n",
      "gonba \n",
      "\n",
      "be \n",
      "\n",
      "alright"
     ]
    }
   ],
   "source": [
    "# Task: cast: str to list\n",
    "# create a string (fact) of 20 or more characters and cast to a list (fact_letters)\n",
    "# iterate fact, printing each char on one line, except for spaces print a new line\n",
    "\n",
    "fact = \"Everybody hurts sometimes, Everybody hurts someday, But everything gonba be alright\"\n",
    "fact_letters = list(fact)\n",
    "print(fact,\"\\n\")\n",
    "\n",
    "for word in fact:\n",
    "    if word == \" \":\n",
    "        print(\" \\n\")\n",
    "    else:\n",
    "        print(word, end =\"\")"
   ]
  }
 ],
 "metadata": {
  "kernelspec": {
   "display_name": "Python 3",
   "language": "python",
   "name": "python3"
  },
  "language_info": {
   "codemirror_mode": {
    "name": "ipython",
    "version": 3
   },
   "file_extension": ".py",
   "mimetype": "text/x-python",
   "name": "python",
   "nbconvert_exporter": "python",
   "pygments_lexer": "ipython3",
   "version": "3.5.4"
  }
 },
 "nbformat": 4,
 "nbformat_minor": 1
}
