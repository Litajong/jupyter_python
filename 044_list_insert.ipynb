{
  "cells": [
    {
      "metadata": {
        "trusted": true
      },
      "cell_type": "code",
      "source": "# the list before Insert\nparty_list = [\"Joana\", \"Alton\", \"Tobias\"]\nprint(\"party_list before: \", party_list)\n\n# the list after Insert\nparty_list[1] = \"Colette\"\nprint(\"\\nparty_list after:  \", party_list)",
      "execution_count": 5,
      "outputs": [
        {
          "output_type": "stream",
          "text": "party_list before:  ['Joana', 'Alton', 'Tobias']\n\nparty_list after:   ['Joana', 'Colette', 'Tobias']\n",
          "name": "stdout"
        }
      ]
    },
    {
      "metadata": {
        "trusted": true
      },
      "cell_type": "code",
      "source": "party_list = [\"Joana\", \"Alton\", \"Tobias\"]\nprint(\"before:\",party_list)\n\n# modify index value\nparty_list[1] = party_list[1] + \" Derosa\"\nprint(\"\\nafter:\", party_list)",
      "execution_count": 6,
      "outputs": [
        {
          "output_type": "stream",
          "text": "before: ['Joana', 'Alton', 'Tobias']\n\nafter: ['Joana', 'Alton Derosa', 'Tobias']\n",
          "name": "stdout"
        }
      ]
    },
    {
      "metadata": {
        "trusted": true
      },
      "cell_type": "code",
      "source": "# IndexError trying to append to end of list\nparty_list[3] = \"Alton\"\nprint(party_list)\n\n#It's error because we can replace only the index we have",
      "execution_count": 9,
      "outputs": [
        {
          "output_type": "error",
          "ename": "IndexError",
          "evalue": "list assignment index out of range",
          "traceback": [
            "\u001b[0;31m---------------------------------------------------------------------------\u001b[0m",
            "\u001b[0;31mIndexError\u001b[0m                                Traceback (most recent call last)",
            "\u001b[0;32m<ipython-input-9-5197fa6613f2>\u001b[0m in \u001b[0;36m<module>\u001b[0;34m()\u001b[0m\n\u001b[0;32m----> 1\u001b[0;31m \u001b[0mparty_list\u001b[0m\u001b[0;34m[\u001b[0m\u001b[0;36m3\u001b[0m\u001b[0;34m]\u001b[0m \u001b[0;34m=\u001b[0m \u001b[0;34m\"Alton\"\u001b[0m\u001b[0;34m\u001b[0m\u001b[0m\n\u001b[0m\u001b[1;32m      2\u001b[0m \u001b[0mprint\u001b[0m\u001b[0;34m(\u001b[0m\u001b[0mparty_list\u001b[0m\u001b[0;34m)\u001b[0m\u001b[0;34m\u001b[0m\u001b[0m\n\u001b[1;32m      3\u001b[0m \u001b[0;34m\u001b[0m\u001b[0m\n\u001b[1;32m      4\u001b[0m \u001b[0;31m#It's error because we can replace only the index we have\u001b[0m\u001b[0;34m\u001b[0m\u001b[0;34m\u001b[0m\u001b[0m\n",
            "\u001b[0;31mIndexError\u001b[0m: list assignment index out of range"
          ]
        }
      ]
    },
    {
      "metadata": {
        "trusted": true
      },
      "cell_type": "code",
      "source": "party_list[2] = \"Beckham\"\nprint(party_list)",
      "execution_count": 11,
      "outputs": [
        {
          "output_type": "stream",
          "text": "['Joana', 'Alton Derosa', 'Beckham']\n",
          "name": "stdout"
        }
      ]
    },
    {
      "metadata": {
        "trusted": true
      },
      "cell_type": "code",
      "source": "# changes the data type of an element\n# replace a string with a number (int)\nsingle_digits = [\"zero\", \"one\", \"two\", \"three\", \"four\", \"five\", \"six\", \"seven\", \"eight\", \"nine\"] \nprint(\"single_digits: \", single_digits)\nprint(\"single_digits[3]: \", single_digits[3], type(single_digits[3]),\"\\n\")\n\n# replace string with an int\nsingle_digits[3] = 3\nprint(\"single_digits: \", single_digits)\nprint(\"single_digits[3]: \", single_digits[3], type(single_digits[3]))",
      "execution_count": 12,
      "outputs": [
        {
          "output_type": "stream",
          "text": "single_digits:  ['zero', 'one', 'two', 'three', 'four', 'five', 'six', 'seven', 'eight', 'nine']\nsingle_digits[3]:  three <class 'str'> \n\nsingle_digits:  ['zero', 'one', 'two', 3, 'four', 'five', 'six', 'seven', 'eight', 'nine']\nsingle_digits[3]:  3 <class 'int'>\n",
          "name": "stdout"
        }
      ]
    }
  ],
  "metadata": {
    "kernelspec": {
      "name": "python3",
      "display_name": "Python 3",
      "language": "python"
    },
    "language_info": {
      "mimetype": "text/x-python",
      "nbconvert_exporter": "python",
      "name": "python",
      "file_extension": ".py",
      "version": "3.5.4",
      "pygments_lexer": "ipython3",
      "codemirror_mode": {
        "version": 3,
        "name": "ipython"
      }
    }
  },
  "nbformat": 4,
  "nbformat_minor": 1
}