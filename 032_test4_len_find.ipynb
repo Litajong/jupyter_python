{
  "cells": [
    {
      "metadata": {
        "trusted": true
      },
      "cell_type": "code",
      "source": "# Task 5\n# len(), .find(), .count()\n\n# find and display the length of the string: topic\n# topic = \".len() returns the length of a string\"\n\ntopic = \"len() returns the length of a string\"\nprint(len(topic))",
      "execution_count": 1,
      "outputs": [
        {
          "output_type": "stream",
          "text": "36\n",
          "name": "stdout"
        }
      ]
    },
    {
      "metadata": {
        "trusted": true
      },
      "cell_type": "code",
      "source": "# use len() to find and display the mid_pt (middle) index (+/- 1) of the string: topic\n# note: index values are whole numbers\n\ntopic = \"len() can take a sequence, like a string, as an argument\"\nprint(\"lenght of topic is\" ,len(topic))\nprint(\"the middle letter of topic is\" , topic[int(len(topic)/2)])\n",
      "execution_count": 11,
      "outputs": [
        {
          "output_type": "stream",
          "text": "lenght of topic is 56\nthe middle letter of topic is i\n",
          "name": "stdout"
        }
      ]
    },
    {
      "metadata": {
        "trusted": true
      },
      "cell_type": "code",
      "source": "# print index where first instance of the word  \"code\" starts using .find()\n\nwork_tip = \"Good code is commented code\"\nprint(work_tip.find(\"code\"))",
      "execution_count": 13,
      "outputs": [
        {
          "output_type": "stream",
          "text": "5\n",
          "name": "stdout"
        }
      ]
    },
    {
      "metadata": {
        "trusted": true
      },
      "cell_type": "code",
      "source": "# search for \"code\" in work_tip using .find() \n# search substring with substring index start= 13,end = last char \n# save result in variable: code_index\n# display index of where \"code\" is found, or print \"not found\" if code_index == -1\n\nwork_tip = \"Good code is commented code\"\n\ncode_index = index = work_tip.find(\"code\")\n\nsubstring = work_tip[13:]\n\nindex = substring.find(\"code\")\nprint(\"Sub string is\" ,\"\\\"\" + substring + \"\\\"\")\n\nif index == \"code\":\n    print(index)\nelse:\n    print(\"not found\")\n",
      "execution_count": 15,
      "outputs": [
        {
          "output_type": "stream",
          "text": "Sub string is \"commented code\"\nnot found\n",
          "name": "stdout"
        }
      ]
    }
  ],
  "metadata": {
    "kernelspec": {
      "name": "python3",
      "display_name": "Python 3",
      "language": "python"
    },
    "language_info": {
      "mimetype": "text/x-python",
      "nbconvert_exporter": "python",
      "name": "python",
      "pygments_lexer": "ipython3",
      "version": "3.5.4",
      "file_extension": ".py",
      "codemirror_mode": {
        "version": 3,
        "name": "ipython"
      }
    }
  },
  "nbformat": 4,
  "nbformat_minor": 1
}