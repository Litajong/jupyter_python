{
 "cells": [
  {
   "cell_type": "code",
   "execution_count": 5,
   "metadata": {},
   "outputs": [
    {
     "name": "stdout",
     "output_type": "stream",
     "text": [
      "[4, 14, 24]\n",
      "['small', 14, 24]\n"
     ]
    }
   ],
   "source": [
    "# replace items in a list\n",
    "# create a list, three_num, containing 3 single digit integers\n",
    "# print three_num\n",
    "# check if index 0 value is < 5\n",
    "# if < 5 , replace index 0 with a string: \"small\"\n",
    "# else, replace index 0 with a string: \"large\"\n",
    "# print three_num\n",
    "# complete \"replace items in a list\" task\n",
    "\n",
    "three_num = [4, 14, 24]\n",
    "print(three_num)\n",
    "\n",
    "if three_num[0] < 5:\n",
    "    three_num[0] = \"small\"\n",
    "else:\n",
    "    three_num[0] = \"large\"\n",
    "\n",
    "print(three_num)"
   ]
  },
  {
   "cell_type": "code",
   "execution_count": 10,
   "metadata": {},
   "outputs": [
    {
     "name": "stdout",
     "output_type": "stream",
     "text": [
      "['Apple', 'Orange', 'Grape']\n",
      "['APPLE', 'Orange', 'Grape']\n",
      "['APPLE', 'Orange', 'gRAPE']\n"
     ]
    }
   ],
   "source": [
    "# modify items in a list\n",
    "# create a list, three_words, containing 3 different capitalized word stings\n",
    "# print three_words\n",
    "# modify the first item in three_words to uppercase\n",
    "# modify the third item to swapcase\n",
    "# print three_words\n",
    "# complete coding task described above\n",
    "\n",
    "three_words = [\"Apple\", \"Orange\", \"Grape\"]\n",
    "print(three_words)\n",
    "\n",
    "three_words[0] = three_words[0].upper()\n",
    "print(three_words)\n",
    "\n",
    "three_words[2] = three_words[2].swapcase()\n",
    "print(three_words)"
   ]
  }
 ],
 "metadata": {
  "kernelspec": {
   "display_name": "Python 3",
   "language": "python",
   "name": "python3"
  },
  "language_info": {
   "codemirror_mode": {
    "name": "ipython",
    "version": 3
   },
   "file_extension": ".py",
   "mimetype": "text/x-python",
   "name": "python",
   "nbconvert_exporter": "python",
   "pygments_lexer": "ipython3",
   "version": "3.5.4"
  }
 },
 "nbformat": 4,
 "nbformat_minor": 1
}
