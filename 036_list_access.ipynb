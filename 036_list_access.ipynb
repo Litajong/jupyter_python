{
  "cells": [
    {
      "metadata": {
        "trusted": true
      },
      "cell_type": "code",
      "source": "ft_bones = [\"calcaneus\", \"talus\", \"cuboid\", \"navicular\", \"lateral cuneiform\", \"intermediate cuneiform\", \"medial cuneiform\"]\n\nprint(ft_bones[0], \"is the 1st bone on the list\")\nprint(ft_bones[2], \"is the 3rd bone on the list\")\nprint(ft_bones[-1], \"is the last bone on the list\")",
      "execution_count": 2,
      "outputs": [
        {
          "output_type": "stream",
          "text": "calcaneus is the 1st bone on the list\ncuboid is the 3rd bone on the list\nmedial cuneiform is the last bone on the list\n",
          "name": "stdout"
        }
      ]
    },
    {
      "metadata": {
        "trusted": true
      },
      "cell_type": "code",
      "source": "print(ft_bones[1], \"is connected to the\",ft_bones[3])",
      "execution_count": 4,
      "outputs": [
        {
          "output_type": "stream",
          "text": "talus is connected to the navicular\n",
          "name": "stdout"
        }
      ]
    },
    {
      "metadata": {
        "trusted": true
      },
      "cell_type": "code",
      "source": "age_survey = [12, 14, 12, 29, 12, 14, 12, 12, 13, 12, 14, 13, 13, 46, 13, 12, 12, 13, 13, 12, 12]\n\nthree_ages_sum = age_survey[0] + age_survey[1] + age_survey[2]\n\nprint(\"The first three ages total\", three_ages_sum)",
      "execution_count": 6,
      "outputs": [
        {
          "output_type": "stream",
          "text": "The first three ages total 38\n",
          "name": "stdout"
        }
      ]
    }
  ],
  "metadata": {
    "kernelspec": {
      "name": "python3",
      "display_name": "Python 3",
      "language": "python"
    },
    "language_info": {
      "mimetype": "text/x-python",
      "nbconvert_exporter": "python",
      "name": "python",
      "pygments_lexer": "ipython3",
      "version": "3.5.4",
      "file_extension": ".py",
      "codemirror_mode": {
        "version": 3,
        "name": "ipython"
      }
    }
  },
  "nbformat": 4,
  "nbformat_minor": 1
}