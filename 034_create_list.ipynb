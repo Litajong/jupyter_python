{
  "cells": [
    {
      "metadata": {
        "trusted": true
      },
      "cell_type": "code",
      "source": "# define list of strings\nft_bones = [\"calcaneus\", \"talus\", \"cuboid\", \"navicular\", \"lateral cuneiform\", \"intermediate cuneiform\", \"medial cuneiform\"]\n\n# display type information\nprint(\"ft_bones:\" , type(ft_bones))",
      "execution_count": 2,
      "outputs": [
        {
          "output_type": "stream",
          "text": "ft_bones: <class 'list'>\n",
          "name": "stdout"
        }
      ]
    },
    {
      "metadata": {
        "trusted": true
      },
      "cell_type": "code",
      "source": "# print the list\nprint(ft_bones)",
      "execution_count": 4,
      "outputs": [
        {
          "output_type": "stream",
          "text": "['calcaneus', 'talus', 'cuboid', 'navicular', 'lateral cuneiform', 'intermediate cuneiform', 'medial cuneiform']\n",
          "name": "stdout"
        }
      ]
    },
    {
      "metadata": {
        "trusted": true
      },
      "cell_type": "code",
      "source": "# define list of integers\nage_survey = [12, 14, 12, 29, 12, 14, 12, 12, 13, 12, 14, 13, 13, 46, 13, 12, 12, 13, 13, 12, 12]\n\n# display type information\nprint(\"age_survey:\" , type(age_survey))",
      "execution_count": 7,
      "outputs": [
        {
          "output_type": "stream",
          "text": "age_survey: <class 'list'>\n",
          "name": "stdout"
        }
      ]
    },
    {
      "metadata": {
        "trusted": true,
        "scrolled": true
      },
      "cell_type": "code",
      "source": "# print the list\nprint(age_survey)",
      "execution_count": 9,
      "outputs": [
        {
          "output_type": "stream",
          "text": "[12, 14, 12, 29, 12, 14, 12, 12, 13, 12, 14, 13, 13, 46, 13, 12, 12, 13, 13, 12, 12]\n",
          "name": "stdout"
        }
      ]
    },
    {
      "metadata": {
        "trusted": true
      },
      "cell_type": "code",
      "source": "# define list of mixed data type\nmixed_list = [1, 34, 0.999, \"dog\", \"cat\", ft_bones, age_survey]\n\n# display type information\nprint(\"mixed_list: \", type(mixed_list))",
      "execution_count": 11,
      "outputs": [
        {
          "output_type": "stream",
          "text": "mixed_list:  <class 'list'>\n",
          "name": "stdout"
        }
      ]
    },
    {
      "metadata": {
        "trusted": true
      },
      "cell_type": "code",
      "source": "# print the list\nprint(mixed_list)",
      "execution_count": 12,
      "outputs": [
        {
          "output_type": "stream",
          "text": "[1, 34, 0.999, 'dog', 'cat', ['calcaneus', 'talus', 'cuboid', 'navicular', 'lateral cuneiform', 'intermediate cuneiform', 'medial cuneiform'], [12, 14, 12, 29, 12, 14, 12, 12, 13, 12, 14, 13, 13, 46, 13, 12, 12, 13, 13, 12, 12]]\n",
          "name": "stdout"
        }
      ]
    }
  ],
  "metadata": {
    "kernelspec": {
      "name": "python3",
      "display_name": "Python 3",
      "language": "python"
    },
    "language_info": {
      "mimetype": "text/x-python",
      "nbconvert_exporter": "python",
      "name": "python",
      "file_extension": ".py",
      "version": "3.5.4",
      "pygments_lexer": "ipython3",
      "codemirror_mode": {
        "version": 3,
        "name": "ipython"
      }
    }
  },
  "nbformat": 4,
  "nbformat_minor": 1
}