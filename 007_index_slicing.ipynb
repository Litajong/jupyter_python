{
  "cells": [
    {
      "metadata": {
        "trusted": true
      },
      "cell_type": "code",
      "source": "# assign string to student_name #\nstudent_name = \"Colette\"\n\n# addressing the 3rd, 4th and 5th characters #\nstudent_name[2:5]\n",
      "execution_count": 1,
      "outputs": [
        {
          "output_type": "execute_result",
          "execution_count": 1,
          "data": {
            "text/plain": "'let'"
          },
          "metadata": {}
        }
      ]
    },
    {
      "metadata": {
        "trusted": true
      },
      "cell_type": "code",
      "source": "# addressing the 3rd, 4th and 5th characters individually #\nprint(\"index 2, 3 & 4 of student_name:\" , student_name[2] + student_name[3] + student_name[4])\n",
      "execution_count": 3,
      "outputs": [
        {
          "output_type": "stream",
          "text": "index 2, 3 & 4 of student_name: let\n",
          "name": "stdout"
        }
      ]
    },
    {
      "metadata": {
        "trusted": true
      },
      "cell_type": "code",
      "source": "long_word = \"Acknowledgement\"\nprint(long_word[2:11])\n\nprint(long_word[2:11] , \"is the 3rd char through the 11th char\")\n\nprint(long_word[2:11] , \"is the index 2, \\\"\" + long_word[2] + \"\\\" ,\" , \"through index 10 , \\\"\" + long_word[10] + \"\\\"\")",
      "execution_count": 4,
      "outputs": [
        {
          "output_type": "stream",
          "text": "knowledge\nknowledge is the 3rd char through the 11th char\nknowledge is the index 2, \"k\" , through index 10 , \"e\"\n",
          "name": "stdout"
        }
      ]
    }
  ],
  "metadata": {
    "kernelspec": {
      "name": "python3",
      "display_name": "Python 3",
      "language": "python"
    },
    "language_info": {
      "mimetype": "text/x-python",
      "nbconvert_exporter": "python",
      "name": "python",
      "pygments_lexer": "ipython3",
      "version": "3.5.4",
      "file_extension": ".py",
      "codemirror_mode": {
        "version": 3,
        "name": "ipython"
      }
    }
  },
  "nbformat": 4,
  "nbformat_minor": 1
}