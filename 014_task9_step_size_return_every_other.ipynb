{
  "cells": [
    {
      "metadata": {
        "trusted": true
      },
      "cell_type": "code",
      "source": "# print the 1st and every 3rd letter of long_word #\nlong_word = \"Acknowledgement\"\n\nprint(long_word , \"\\n\")\nprint(long_word[::2])",
      "execution_count": 3,
      "outputs": [
        {
          "output_type": "stream",
          "text": "Acknowledgement \n\nAkoldeet\n",
          "name": "stdout"
        }
      ]
    },
    {
      "metadata": {
        "trusted": true
      },
      "cell_type": "code",
      "source": "# print every other character of long_word starting at the 3rd character #\nprint(long_word[2::2])",
      "execution_count": 4,
      "outputs": [
        {
          "output_type": "stream",
          "text": "koldeet\n",
          "name": "stdout"
        }
      ]
    }
  ],
  "metadata": {
    "kernelspec": {
      "name": "python3",
      "display_name": "Python 3",
      "language": "python"
    },
    "language_info": {
      "mimetype": "text/x-python",
      "nbconvert_exporter": "python",
      "name": "python",
      "pygments_lexer": "ipython3",
      "version": "3.5.4",
      "file_extension": ".py",
      "codemirror_mode": {
        "version": 3,
        "name": "ipython"
      }
    }
  },
  "nbformat": 4,
  "nbformat_minor": 1
}