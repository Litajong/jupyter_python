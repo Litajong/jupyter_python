{
  "cells": [
    {
      "metadata": {
        "trusted": true
      },
      "cell_type": "code",
      "source": "# Iterate through characters of a string #\n# use \"for 'letter' in word\" to loop through each letter in word #\n\nword = \"cello\"\nfor letter in word :\n    print(letter)\n\n",
      "execution_count": 1,
      "outputs": [
        {
          "output_type": "stream",
          "text": "c\ne\nl\nl\no\n",
          "name": "stdout"
        }
      ]
    },
    {
      "metadata": {
        "trusted": true
      },
      "cell_type": "code",
      "source": "# changed variable 'letter' to 'item' #\n\nword = \"trumpet\"\nfor item in word :\n    print(item)",
      "execution_count": 4,
      "outputs": [
        {
          "output_type": "stream",
          "text": "t\nr\nu\nm\np\ne\nt\n",
          "name": "stdout"
        }
      ]
    },
    {
      "metadata": {
        "trusted": true
      },
      "cell_type": "code",
      "source": "# changed variable to 'xyz' #\n\nword = \"piano\"\nfor xyz in word :\n    print(xyz)",
      "execution_count": 8,
      "outputs": [
        {
          "output_type": "stream",
          "text": "p\ni\na\nn\no\n",
          "name": "stdout"
        }
      ]
    }
  ],
  "metadata": {
    "kernelspec": {
      "name": "python3",
      "display_name": "Python 3",
      "language": "python"
    },
    "language_info": {
      "mimetype": "text/x-python",
      "nbconvert_exporter": "python",
      "name": "python",
      "file_extension": ".py",
      "version": "3.5.4",
      "pygments_lexer": "ipython3",
      "codemirror_mode": {
        "version": 3,
        "name": "ipython"
      }
    }
  },
  "nbformat": 4,
  "nbformat_minor": 1
}