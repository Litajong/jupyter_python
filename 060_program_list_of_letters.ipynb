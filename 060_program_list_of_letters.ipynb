{
 "cells": [
  {
   "cell_type": "code",
   "execution_count": 9,
   "metadata": {},
   "outputs": [
    {
     "name": "stdout",
     "output_type": "stream",
     "text": [
      "Enter a word:jongpakdeetrakul\n",
      "j\n",
      "o\n",
      "n\n",
      "g\n",
      "p\n",
      "a\n",
      "k\n",
      "d\n",
      "e\n",
      "e\n",
      "t\n",
      "r\n",
      "a\n",
      "k\n",
      "u\n",
      "l\n",
      "['j', 'o', 'n', 'g', 'p', 'a', 'k', 'd', 'e', 'e', 't', 'r', 'a', 'k', 'u', 'l']\n",
      "even_letters:  ['j', 'n', 'p', 'k', 'e', 't', 'a', 'u']\n",
      "odd_letters:  ['o', 'g', 'a', 'd', 'e', 'r', 'k', 'l']\n"
     ]
    }
   ],
   "source": [
    "# Program: List of letters\n",
    "# Input a word string (word)\n",
    "# find the string length of word\n",
    "# use range() to iterate through each letter in word (can use to range loops)\n",
    "# Save odd and even letters from the word as lists\n",
    "# odd_letters: starting at index 0,2,...\n",
    "# even_letters: starting at index 1,3,...\n",
    "# print odd and even lists\n",
    "# complete List of letters program- test with the word \"complexity\"\n",
    "\n",
    "my_word = input(\"Enter a word:\")\n",
    "\n",
    "for letter in range(len(my_word)):\n",
    "    print(my_word[letter])\n",
    "    \n",
    "my_list = list(my_word)\n",
    "print(my_list)\n",
    "\n",
    "odd_letters =[]\n",
    "even_letters =[]\n",
    "\n",
    "for letter in range(len(my_word)):\n",
    "    if letter %2 ==0:\n",
    "        even_letters.append(my_word[letter])\n",
    "    else:\n",
    "        odd_letters.append(my_word[letter])\n",
    "        \n",
    "print(\"even_letters: \", even_letters)\n",
    "print(\"odd_letters: \", odd_letters)\n",
    "\n"
   ]
  },
  {
   "cell_type": "code",
   "execution_count": 10,
   "metadata": {},
   "outputs": [
    {
     "name": "stdout",
     "output_type": "stream",
     "text": [
      "1\n",
      "3\n",
      "5\n",
      "7\n",
      "9\n"
     ]
    }
   ],
   "source": [
    "# Task: fix the error\n",
    "# fix the error printing odd numbers 1 - 9\n",
    "for num in range(1,10,2):\n",
    "    print(num)"
   ]
  }
 ],
 "metadata": {
  "kernelspec": {
   "display_name": "Python 3",
   "language": "python",
   "name": "python3"
  },
  "language_info": {
   "codemirror_mode": {
    "name": "ipython",
    "version": 3
   },
   "file_extension": ".py",
   "mimetype": "text/x-python",
   "name": "python",
   "nbconvert_exporter": "python",
   "pygments_lexer": "ipython3",
   "version": "3.5.4"
  }
 },
 "nbformat": 4,
 "nbformat_minor": 1
}
