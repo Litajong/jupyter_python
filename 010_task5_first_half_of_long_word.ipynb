{
  "cells": [
    {
      "metadata": {
        "trusted": true
      },
      "cell_type": "code",
      "source": "#print the first half of long_word#\nlong_word = \"Consequences\"\n\nprint('The first half of Consequences is \"'+long_word[:6]+'\"')\n      ",
      "execution_count": 11,
      "outputs": [
        {
          "output_type": "stream",
          "text": "The first half of Consequences is \"Conseq\"\n",
          "name": "stdout"
        }
      ]
    }
  ],
  "metadata": {
    "kernelspec": {
      "name": "python3",
      "display_name": "Python 3",
      "language": "python"
    },
    "language_info": {
      "mimetype": "text/x-python",
      "nbconvert_exporter": "python",
      "name": "python",
      "pygments_lexer": "ipython3",
      "version": "3.5.4",
      "file_extension": ".py",
      "codemirror_mode": {
        "version": 3,
        "name": "ipython"
      }
    }
  },
  "nbformat": 4,
  "nbformat_minor": 1
}