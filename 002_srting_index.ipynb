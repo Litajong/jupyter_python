{
 "cells": [
  {
   "cell_type": "code",
   "execution_count": 15,
   "metadata": {},
   "outputs": [
    {
     "name": "stdout",
     "output_type": "stream",
     "text": [
      "A\n",
      "l\n",
      "t\n",
      "o\n",
      "n\n"
     ]
    }
   ],
   "source": [
    "#Access the first character with Address at index 0\n",
    "student_name = \"Alton\"\n",
    "print(student_name[0]),\n",
    "print(student_name[1])\n",
    "print(student_name[2])\n",
    "print(student_name[3])\n",
    "print(student_name[4])"
   ]
  },
  {
   "cell_type": "code",
   "execution_count": 5,
   "metadata": {},
   "outputs": [
    {
     "name": "stdout",
     "output_type": "stream",
     "text": [
      "Winner! Name starts with J: Jin\n"
     ]
    }
   ],
   "source": [
    "student_name = \"Jin\"\n",
    "\n",
    "if student_name[0].lower() == \"a\":\n",
    "    print('Winner! Name starts with A:', student_name)\n",
    "elif student_name[0].lower() == \"j\":\n",
    "    print('Winner! Name starts with J:', student_name)\n",
    "else:\n",
    "    print('Not a match, try again tomorrow:', student_name)\n"
   ]
  },
  {
   "cell_type": "code",
   "execution_count": 7,
   "metadata": {},
   "outputs": [
    {
     "name": "stdout",
     "output_type": "stream",
     "text": [
      "Winner! Name starts with A: Alto\n"
     ]
    }
   ],
   "source": [
    "student_name = \"Alto\"\n",
    "\n",
    "if student_name[0].lower() == \"a\":\n",
    "    print('Winner! Name starts with A:', student_name)\n",
    "elif student_name[0].lower() == \"j\":\n",
    "    print('Winner! Name starts with J:', student_name)\n",
    "else:\n",
    "    print('Not a match, try again tomorrow:', student_name)\n"
   ]
  },
  {
   "cell_type": "code",
   "execution_count": 16,
   "metadata": {},
   "outputs": [
    {
     "name": "stdout",
     "output_type": "stream",
     "text": [
      "Not a match, try again tomorrow: Collete\n"
     ]
    }
   ],
   "source": [
    "student_name = \"Collete\"\n",
    "\n",
    "if student_name[0].lower() == \"a\":\n",
    "    print('Winner! Name starts with A:', student_name)\n",
    "elif student_name[0].lower() == \"j\":\n",
    "    print('Winner! Name starts with J:', student_name)\n",
    "else:\n",
    "    print('Not a match, try again tomorrow:', student_name)\n"
   ]
  },
  {
   "cell_type": "code",
   "execution_count": 20,
   "metadata": {},
   "outputs": [
    {
     "ename": "IndexError",
     "evalue": "string index out of range",
     "output_type": "error",
     "traceback": [
      "\u001b[1;31m---------------------------------------------------------------------------\u001b[0m",
      "\u001b[1;31mIndexError\u001b[0m                                Traceback (most recent call last)",
      "\u001b[1;32m<ipython-input-20-2120a67bd0bd>\u001b[0m in \u001b[0;36m<module>\u001b[1;34m\u001b[0m\n\u001b[0;32m      2\u001b[0m \u001b[1;33m\u001b[0m\u001b[0m\n\u001b[0;32m      3\u001b[0m \u001b[0mstudent_name\u001b[0m \u001b[1;33m=\u001b[0m \u001b[1;34m\"Tobias\"\u001b[0m\u001b[1;33m\u001b[0m\u001b[1;33m\u001b[0m\u001b[0m\n\u001b[1;32m----> 4\u001b[1;33m \u001b[0mprint\u001b[0m\u001b[1;33m(\u001b[0m\u001b[0mstudent_name\u001b[0m\u001b[1;33m[\u001b[0m\u001b[1;36m6\u001b[0m\u001b[1;33m]\u001b[0m\u001b[1;33m)\u001b[0m\u001b[1;33m\u001b[0m\u001b[1;33m\u001b[0m\u001b[0m\n\u001b[0m",
      "\u001b[1;31mIndexError\u001b[0m: string index out of range"
     ]
    }
   ],
   "source": [
    "#What is the last index of a string 6 characters long?\n",
    "\n",
    "student_name = \"Tobias\"\n",
    "print(student_name[6])"
   ]
  }
 ],
 "metadata": {
  "kernelspec": {
   "display_name": "Python 3",
   "language": "python",
   "name": "python3"
  },
  "language_info": {
   "codemirror_mode": {
    "name": "ipython",
    "version": 3
   },
   "file_extension": ".py",
   "mimetype": "text/x-python",
   "name": "python",
   "nbconvert_exporter": "python",
   "pygments_lexer": "ipython3",
   "version": "3.7.3"
  }
 },
 "nbformat": 4,
 "nbformat_minor": 2
}
