{
 "cells": [
  {
   "cell_type": "code",
   "execution_count": 5,
   "metadata": {},
   "outputs": [
    {
     "name": "stdout",
     "output_type": "stream",
     "text": [
      "Lalita\n",
      "??il?L\n"
     ]
    }
   ],
   "source": [
    "# Program: Mystery Name\n",
    "# get user input for first_name\n",
    "# create an empty string variable: new_name\n",
    "# iterate through letters in first_name Backwards\n",
    "# add each letter to new_name as you iterate\n",
    "# Replace the letter if \"e\", \"t\" or \"a\" with \"?\" (hint: if, elif, elif, else)\n",
    "# print new_name\n",
    "\n",
    "\n",
    "first_name = str(input())\n",
    "\n",
    "new_name = \"\"\n",
    "\n",
    "for letter in first_name[::-1]:\n",
    "    if letter.lower() == \"e\":\n",
    "        new_name += \"?\"\n",
    "    elif letter.lower() == \"t\":\n",
    "        new_name += \"?\"\n",
    "    elif letter.lower() == \"a\":\n",
    "        new_name += \"?\"\n",
    "    else:\n",
    "        new_name += letter\n",
    "print(new_name)   "
   ]
  },
  {
   "cell_type": "code",
   "execution_count": null,
   "metadata": {},
   "outputs": [],
   "source": []
  }
 ],
 "metadata": {
  "kernelspec": {
   "display_name": "Python 3",
   "language": "python",
   "name": "python3"
  },
  "language_info": {
   "codemirror_mode": {
    "name": "ipython",
    "version": 3
   },
   "file_extension": ".py",
   "mimetype": "text/x-python",
   "name": "python",
   "nbconvert_exporter": "python",
   "pygments_lexer": "ipython3",
   "version": "3.5.4"
  }
 },
 "nbformat": 4,
 "nbformat_minor": 1
}
