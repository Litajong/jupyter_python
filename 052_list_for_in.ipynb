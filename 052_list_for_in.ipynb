{
  "cells": [
    {
      "metadata": {
        "trusted": true
      },
      "cell_type": "code",
      "source": "# for in\n# Iterate through Lists using\n\ncities = [\"New York\", \"Shanghai\", \"Munich\", \"Tokyo\", \"Dubai\", \"Mexico City\", \"São Paulo\", \"Hyderabad\"]\nprint(cities)\n\nfor city in cities:\n    print(city)\n",
      "execution_count": 1,
      "outputs": [
        {
          "output_type": "stream",
          "text": "['New York', 'Shanghai', 'Munich', 'Tokyo', 'Dubai', 'Mexico City', 'São Paulo', 'Hyderabad']\nNew York\nShanghai\nMunich\nTokyo\nDubai\nMexico City\nSão Paulo\nHyderabad\n",
          "name": "stdout"
        }
      ]
    },
    {
      "metadata": {
        "trusted": true
      },
      "cell_type": "code",
      "source": "sales = [6, 8, 9, 11, 12, 17, 19, 20, 22]\ntotal = 0\n\nfor sale in sales:\n    total += sale\n    \nprint(\"total sales:\", total)",
      "execution_count": 2,
      "outputs": [
        {
          "output_type": "stream",
          "text": "total sales: 124\n",
          "name": "stdout"
        }
      ]
    },
    {
      "metadata": {
        "trusted": true
      },
      "cell_type": "code",
      "source": "# change the iterator variable name from \"sale\" to \"dollars\" or to any valid name\n\nsales = [6, 8, 9, 11, 12, 17, 19, 20, 22]\ntotal = 0\n\nfor dollars in sales:\n    total += dollars\n    \nprint(\"total sales:\", total)",
      "execution_count": 3,
      "outputs": [
        {
          "output_type": "stream",
          "text": "total sales: 124\n",
          "name": "stdout"
        }
      ]
    },
    {
      "metadata": {
        "trusted": true
      },
      "cell_type": "code",
      "source": "# Task: Iterate through Lists using in\n# create a list of 4 to 6 strings: birds\n# print each bird in the list\n\nbirds = [\"flamingo\", \"parrot\", \"robin\", \"sparrow\", \"canary\", \"lovebird\"]\nfor bird in birds:\n    print(bird)",
      "execution_count": 6,
      "outputs": [
        {
          "output_type": "stream",
          "text": "flamingo\nparrot\nrobin\nsparrow\ncanary\nlovebird\n",
          "name": "stdout"
        }
      ]
    },
    {
      "metadata": {
        "trusted": true
      },
      "cell_type": "code",
      "source": "# create a list of 7 integers: player_points\n# print double the points for each point value\n\nplayer_points = [12, 14, 16, 18, 20, 15, 19]\ndouble = 0\n\nfor double in player_points:\n    print(double*2)",
      "execution_count": 10,
      "outputs": [
        {
          "output_type": "stream",
          "text": "24\n28\n32\n36\n40\n30\n38\n",
          "name": "stdout"
        }
      ]
    },
    {
      "metadata": {
        "trusted": true
      },
      "cell_type": "code",
      "source": "# create long_string by concatenating the items in the \"birds\" list previously created\n# print long_string - make sure to put a space betweeen the bird names\n\nbirds = [\" flamingo\", \" parrot\", \" robin\", \" sparrow\", \" canary\", \" lovebird\"]\nlong_string = \"I like to see\"\n\nfor bird in birds:\n    long_string += (\" \" + bird)\n    print(long_string)",
      "execution_count": 16,
      "outputs": [
        {
          "output_type": "stream",
          "text": "I like to see  flamingo\nI like to see  flamingo  parrot\nI like to see  flamingo  parrot  robin\nI like to see  flamingo  parrot  robin  sparrow\nI like to see  flamingo  parrot  robin  sparrow  canary\nI like to see  flamingo  parrot  robin  sparrow  canary  lovebird\n",
          "name": "stdout"
        }
      ]
    },
    {
      "metadata": {
        "trusted": true
      },
      "cell_type": "code",
      "source": "",
      "execution_count": null,
      "outputs": []
    }
  ],
  "metadata": {
    "kernelspec": {
      "name": "python3",
      "display_name": "Python 3",
      "language": "python"
    },
    "language_info": {
      "mimetype": "text/x-python",
      "nbconvert_exporter": "python",
      "name": "python",
      "pygments_lexer": "ipython3",
      "version": "3.5.4",
      "file_extension": ".py",
      "codemirror_mode": {
        "version": 3,
        "name": "ipython"
      }
    }
  },
  "nbformat": 4,
  "nbformat_minor": 1
}