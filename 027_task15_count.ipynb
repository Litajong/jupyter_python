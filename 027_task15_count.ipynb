{
  "cells": [
    {
      "metadata": {
        "trusted": true
      },
      "cell_type": "code",
      "source": "# for letters: \"e\" and \"a\" in random_tip\n\nrandom_tip = \"wear a hat when it rains\"\nprint('letter \"e\" occurrences')\nprint(random_tip . count(\"e\"))\n      \nprint('letter \"o\" occurrences')\nprint(random_tip . count(\"a\"))\n           \n# print which letter is most frequent\n\nif random_tip . count(\"e\") > random_tip . count(\"a\"):\n    print('\"e\" is most frequent')\nelse:\n    print('\"a\"is most frequent')",
      "execution_count": 1,
      "outputs": [
        {
          "output_type": "stream",
          "text": "letter \"e\" occurrences\n2\nletter \"o\" occurrences\n4\n\"a\"is most frequent\n",
          "name": "stdout"
        }
      ]
    }
  ],
  "metadata": {
    "kernelspec": {
      "name": "python3",
      "display_name": "Python 3",
      "language": "python"
    },
    "language_info": {
      "mimetype": "text/x-python",
      "nbconvert_exporter": "python",
      "name": "python",
      "pygments_lexer": "ipython3",
      "version": "3.5.4",
      "file_extension": ".py",
      "codemirror_mode": {
        "version": 3,
        "name": "ipython"
      }
    }
  },
  "nbformat": 4,
  "nbformat_minor": 1
}