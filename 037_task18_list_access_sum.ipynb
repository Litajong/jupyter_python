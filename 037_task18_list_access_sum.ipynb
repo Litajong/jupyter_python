{
  "cells": [
    {
      "metadata": {
        "trusted": true
      },
      "cell_type": "code",
      "source": "# Create a list, streets, that lists the name of 5 street name strings\n\nstreet_name = [\"Park road\", \"Woods run\", \"Braddrock\", \"Pickwick\", \"Maple\"]\n\n#print a message that there is \"No Parking\" on index 0 or index 4 streets\n\nprint('There is \"No Parking\" on', street_name[0], \"or\", street_name[4], \"street\")",
      "execution_count": 4,
      "outputs": [
        {
          "output_type": "stream",
          "text": "There is \"No Parking\" on Park road or Maple street\n",
          "name": "stdout"
        }
      ]
    },
    {
      "metadata": {
        "trusted": true
      },
      "cell_type": "code",
      "source": "# Create a list, num_2_add, made of 5 different numbers between 0 - 25\n\nnum_2_add = [4, 8, 12, 10, 25]\n\n# print the sum of the numbers\nprint(num_2_add[0]+num_2_add[1]+num_2_add[2]+num_2_add[3]+num_2_add[4])",
      "execution_count": 6,
      "outputs": [
        {
          "output_type": "stream",
          "text": "59\n",
          "name": "stdout"
        }
      ]
    }
  ],
  "metadata": {
    "kernelspec": {
      "name": "python3",
      "display_name": "Python 3",
      "language": "python"
    },
    "language_info": {
      "mimetype": "text/x-python",
      "nbconvert_exporter": "python",
      "name": "python",
      "file_extension": ".py",
      "version": "3.5.4",
      "pygments_lexer": "ipython3",
      "codemirror_mode": {
        "version": 3,
        "name": "ipython"
      }
    }
  },
  "nbformat": 4,
  "nbformat_minor": 1
}