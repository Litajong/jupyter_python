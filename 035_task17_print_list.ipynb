{
  "cells": [
    {
      "metadata": {
        "trusted": true
      },
      "cell_type": "code",
      "source": "# create team_names list and populate with 3-5 team name strings\n\nteam_name = [\"Liverpool\", \"Juventus\", \"Chelsea\", \"Everton\", \"Watford\"]\n\n# print the list\nprint(team_name)",
      "execution_count": 4,
      "outputs": [
        {
          "output_type": "stream",
          "text": "['Liverpool', 'Juventus', 'Chelsea', 'Everton', 'Watford']\n",
          "name": "stdout"
        }
      ]
    },
    {
      "metadata": {
        "trusted": true
      },
      "cell_type": "code",
      "source": "# Create a list mix_list with numbers and strings with 4-6 items\n\nmix_list = [1 ,\"July\", 1998, \"Sunday\", \"Dog\", 53]\n\nprint(mix_list)",
      "execution_count": 6,
      "outputs": [
        {
          "output_type": "stream",
          "text": "[1, 'July', 1998, 'Sunday', 'Dog', 53]\n",
          "name": "stdout"
        }
      ]
    }
  ],
  "metadata": {
    "kernelspec": {
      "name": "python3",
      "display_name": "Python 3",
      "language": "python"
    },
    "language_info": {
      "mimetype": "text/x-python",
      "nbconvert_exporter": "python",
      "name": "python",
      "file_extension": ".py",
      "version": "3.5.4",
      "pygments_lexer": "ipython3",
      "codemirror_mode": {
        "version": 3,
        "name": "ipython"
      }
    }
  },
  "nbformat": 4,
  "nbformat_minor": 1
}