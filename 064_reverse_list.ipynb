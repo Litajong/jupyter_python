{
  "cells": [
    {
      "metadata": {
        "trusted": true
      },
      "cell_type": "code",
      "source": "# .reverse() : reverse a list in place\ncities_1 = [\"Dubai\", \"Mexico City\", \"São Paulo\", \"Hyderabad\"]\n\nprint(\"regular\", cities_1)\ncities_1.reverse()\nprint(\"reversed\", cities_1)",
      "execution_count": 1,
      "outputs": [
        {
          "output_type": "stream",
          "text": "regular ['Dubai', 'Mexico City', 'São Paulo', 'Hyderabad']\nreversed ['Hyderabad', 'São Paulo', 'Mexico City', 'Dubai']\n",
          "name": "stdout"
        }
      ]
    },
    {
      "metadata": {
        "trusted": true
      },
      "cell_type": "code",
      "source": "all_num = [0, 1, 2, 3, 4, 5, 6, 7, 8, 9, 10, 20, 30, 40, 50, 60, 70, 80, 90, 100]\nprint(\"regular list\",all_num, \"\\n\")\nall_num.reverse()\nprint(\"reverse list\",all_num, \"\\n\")\nnum_len = len(all_num)\nprint(\"num lenght:\" , num_len)",
      "execution_count": 4,
      "outputs": [
        {
          "output_type": "stream",
          "text": "regular list [0, 1, 2, 3, 4, 5, 6, 7, 8, 9, 10, 20, 30, 40, 50, 60, 70, 80, 90, 100] \n\nreverse list [100, 90, 80, 70, 60, 50, 40, 30, 20, 10, 9, 8, 7, 6, 5, 4, 3, 2, 1, 0] \n\nnum lenght: 20\n",
          "name": "stdout"
        }
      ]
    },
    {
      "metadata": {
        "trusted": true
      },
      "cell_type": "code",
      "source": "print(\"Three Multiple\")\nfor num in all_num:\n    if num/3 == int(num/3):\n        print(num)\n    else:\n        pass",
      "execution_count": 6,
      "outputs": [
        {
          "output_type": "stream",
          "text": "Three Multiple\n90\n60\n30\n9\n6\n3\n0\n",
          "name": "stdout"
        }
      ]
    },
    {
      "metadata": {
        "trusted": true
      },
      "cell_type": "code",
      "source": "# create a list of  numbers by casting a range \n# and reverse\n\ncount_list = list(range(21))\nprint(\"before list\", count_list, \"\\n\")\n\ncount_list.reverse()\nprint(\"after list\", count_list)",
      "execution_count": 9,
      "outputs": [
        {
          "output_type": "stream",
          "text": "before list [0, 1, 2, 3, 4, 5, 6, 7, 8, 9, 10, 11, 12, 13, 14, 15, 16, 17, 18, 19, 20] \n\nafter list [20, 19, 18, 17, 16, 15, 14, 13, 12, 11, 10, 9, 8, 7, 6, 5, 4, 3, 2, 1, 0]\n",
          "name": "stdout"
        }
      ]
    },
    {
      "metadata": {
        "trusted": true
      },
      "cell_type": "code",
      "source": "# Task: reverse\n# create and  print a list of multiples of 5 from 5 to 100\n# reverse the list and print\nfive_multiple = list(range(5,101,5))\nprint(\"before list: \", five_multiple)\nfive_multiple.reverse()\nprint(\"after list: \", five_multiple)",
      "execution_count": 25,
      "outputs": [
        {
          "output_type": "stream",
          "text": "before list:  [5, 10, 15, 20, 25, 30, 35, 40, 45, 50, 55, 60, 65, 70, 75, 80, 85, 90, 95, 100]\nafter list:  [100, 95, 90, 85, 80, 75, 70, 65, 60, 55, 50, 45, 40, 35, 30, 25, 20, 15, 10, 5]\n",
          "name": "stdout"
        }
      ]
    },
    {
      "metadata": {
        "trusted": true
      },
      "cell_type": "code",
      "source": "# Task\n# create two lists: fours & more_fours containing multiples of four from 4 to 44\n# combine and print so that the output is mirrored [44, 40,...8, 4, 4, 8, ...40, 44]\n\nfours = list(range(4,45,4))\nmore_fours = list(range(4,45,4))\nmore_fours.reverse()\nprint(more_fours + fours)\n",
      "execution_count": 67,
      "outputs": [
        {
          "output_type": "stream",
          "text": "[44, 40, 36, 32, 28, 24, 20, 16, 12, 8, 4, 4, 8, 12, 16, 20, 24, 28, 32, 36, 40, 44]\n",
          "name": "stdout"
        }
      ]
    },
    {
      "metadata": {
        "trusted": true
      },
      "cell_type": "code",
      "source": "",
      "execution_count": null,
      "outputs": []
    }
  ],
  "metadata": {
    "kernelspec": {
      "name": "python3",
      "display_name": "Python 3",
      "language": "python"
    },
    "language_info": {
      "mimetype": "text/x-python",
      "nbconvert_exporter": "python",
      "name": "python",
      "pygments_lexer": "ipython3",
      "version": "3.5.4",
      "file_extension": ".py",
      "codemirror_mode": {
        "version": 3,
        "name": "ipython"
      }
    }
  },
  "nbformat": 4,
  "nbformat_minor": 1
}