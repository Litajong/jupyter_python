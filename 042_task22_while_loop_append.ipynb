{
 "cells": [
  {
   "cell_type": "code",
   "execution_count": 3,
   "metadata": {},
   "outputs": [
    {
     "name": "stdout",
     "output_type": "stream",
     "text": [
      "Your date of birth or \"q\" to finish:3\n",
      "Your date of birth or \"q\" to finish:4\n",
      "Your date of birth or \"q\" to finish:5\n",
      "Your date of birth or \"q\" to finish:67\n",
      "Your date of birth or \"q\" to finish:q\n",
      "the survey is  ['3', '4', '5', '67']\n"
     ]
    }
   ],
   "source": [
    "bday_survey = []\n",
    "while True:\n",
    "    user = input ('Your date of birth or \"q\" to finish:')\n",
    "    if user.isdigit():\n",
    "        bday_survey.append ( user )\n",
    "    elif user.startswith ( \"q\" ):\n",
    "        break\n",
    "print(\"the survey is \" ,  bday_survey ) "
   ]
  }
 ],
 "metadata": {
  "kernelspec": {
   "display_name": "Python 3",
   "language": "python",
   "name": "python3"
  },
  "language_info": {
   "codemirror_mode": {
    "name": "ipython",
    "version": 3
   },
   "file_extension": ".py",
   "mimetype": "text/x-python",
   "name": "python",
   "nbconvert_exporter": "python",
   "pygments_lexer": "ipython3",
   "version": "3.5.4"
  }
 },
 "nbformat": 4,
 "nbformat_minor": 1
}
