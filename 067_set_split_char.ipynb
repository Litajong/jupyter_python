{
  "cells": [
    {
      "metadata": {
        "trusted": true
      },
      "cell_type": "code",
      "source": "# to split on characters other than \" \" (space), provide .split() a string argument to use as break points\n# .split('-') : split with an argument\n\ncode_tip = \"Python-uses-spaces-for-indentation\"\ntip_word = code_tip.split('-')\nprint(tip_word)",
      "execution_count": 1,
      "outputs": [
        {
          "output_type": "stream",
          "text": "['Python', 'uses', 'spaces', 'for', 'indentation']\n",
          "name": "stdout"
        }
      ]
    },
    {
      "metadata": {
        "trusted": true
      },
      "cell_type": "code",
      "source": "code_tip = \"Python uses spaces for indentation\"\n\n# split on \"a\"\ntip_words = code_tip.split('a')\nprint(code_tip)\nprint(tip_words)",
      "execution_count": 2,
      "outputs": [
        {
          "output_type": "stream",
          "text": "Python uses spaces for indentation\n['Python uses sp', 'ces for indent', 'tion']\n",
          "name": "stdout"
        }
      ]
    },
    {
      "metadata": {
        "trusted": true
      },
      "cell_type": "code",
      "source": "# triple quotes ''' ''' preserve formatting such as spaces and line breaks\nbig_quote = \"\"\"Jack and Jill went up the hill\nTo fetch a pail of water\nJack fell down and broke his crown\nAnd Jill came tumbling after\"\"\"\n\n# split on line breaks (\\n)\nquote_lines = big_quote.split('\\n')\nprint(quote_lines, '\\n')",
      "execution_count": 3,
      "outputs": [
        {
          "output_type": "stream",
          "text": "['Jack and Jill went up the hill', 'To fetch a pail of water', 'Jack fell down and broke his crown', 'And Jill came tumbling after'] \n\n",
          "name": "stdout"
        }
      ]
    },
    {
      "metadata": {
        "trusted": true
      },
      "cell_type": "code",
      "source": "# print the list in reverse with index slicing\n\nfor line in quote_lines[::-1]:\n    print(line)",
      "execution_count": 5,
      "outputs": [
        {
          "output_type": "stream",
          "text": "And Jill came tumbling after\nJack fell down and broke his crown\nTo fetch a pail of water\nJack and Jill went up the hill\n",
          "name": "stdout"
        }
      ]
    },
    {
      "metadata": {
        "trusted": true
      },
      "cell_type": "code",
      "source": "# Task :.split()\n# split poem into a list of phrases by splitting on \"*\" a\n\npoem = \"Write code frequently*Save code frequently*Comment code frequently*Study code frequently*\"\nline_poem = poem.split('*')\nprint(line_poem, \"\\n\")\n\n# print each phrase on a new line in title case\n\nfor word in line_poem:\n    print(word.title())\n\n\n    ",
      "execution_count": 12,
      "outputs": [
        {
          "output_type": "stream",
          "text": "['Write code frequently', 'Save code frequently', 'Comment code frequently', 'Study code frequently', ''] \n\nWrite Code Frequently\nSave Code Frequently\nComment Code Frequently\nStudy Code Frequently\n\n",
          "name": "stdout"
        }
      ]
    }
  ],
  "metadata": {
    "kernelspec": {
      "name": "python3",
      "display_name": "Python 3",
      "language": "python"
    },
    "language_info": {
      "mimetype": "text/x-python",
      "nbconvert_exporter": "python",
      "name": "python",
      "file_extension": ".py",
      "version": "3.5.4",
      "pygments_lexer": "ipython3",
      "codemirror_mode": {
        "version": 3,
        "name": "ipython"
      }
    }
  },
  "nbformat": 4,
  "nbformat_minor": 1
}